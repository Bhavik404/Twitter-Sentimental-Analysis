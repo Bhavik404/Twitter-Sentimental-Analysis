{
 "cells": [
  {
   "cell_type": "code",
   "execution_count": 24,
   "metadata": {},
   "outputs": [
    {
     "name": "stderr",
     "output_type": "stream",
     "text": [
      "[nltk_data] Downloading package punkt to\n",
      "[nltk_data]     C:\\Users\\Wadiya\\AppData\\Roaming\\nltk_data...\n",
      "[nltk_data]   Package punkt is already up-to-date!\n",
      "[nltk_data] Downloading package wordnet to\n",
      "[nltk_data]     C:\\Users\\Wadiya\\AppData\\Roaming\\nltk_data...\n",
      "[nltk_data]   Package wordnet is already up-to-date!\n"
     ]
    }
   ],
   "source": [
    "import tweepy\n",
    "import nltk\n",
    "nltk.download('punkt')\n",
    "nltk.download('wordnet')\n",
    "from nltk import sent_tokenize, word_tokenize\n",
    "from nltk.stem.snowball import SnowballStemmer\n",
    "from nltk.stem.wordnet import WordNetLemmatizer\n",
    "from nltk.corpus import stopwords\n",
    "stop_words = set(stopwords.words('english'))\n",
    "import pandas as pd\n",
    "import numpy as np\n",
    "import re  \n",
    "import spacy\n",
    "nlp = spacy.load('en_core_web_lg')\n",
    "from datetime import *"
   ]
  },
  {
   "cell_type": "code",
   "execution_count": 25,
   "metadata": {},
   "outputs": [],
   "source": [
    "consumer_key = \"Ie9GlyLg24Rnu1KV6aXkQvLPh\"\n",
    "consumer_secret = \"njAvJEOhMicoxXs40OLtCtHvnB2TgA6jRwUYujtUo3v9Fb1ZXZ\"\n",
    "access_key = \"794428634530361344-K73P7BxwHopfsfQ3aS2mbSf8lS2NaLC\"\n",
    "access_secret = \"MwfrGvSKZ7ugeFBiC9vaYmYluEwe0anmugAuWP3DnFpHR\"\n",
    "\n",
    "def get_tweets(username):\n",
    "    # Authorization to consumer key and consumer secret\n",
    "    auth = tweepy.OAuthHandler(consumer_key, consumer_secret)\n",
    "    # Access to user's access key and access secret\n",
    "    auth.set_access_token(access_key, access_secret)\n",
    "    # Calling api\n",
    "    api = tweepy.API(auth)\n",
    "    # Empty Array\n",
    "    tmp = []\n",
    "    date=[]\n",
    "    loc = []\n",
    "    for tweet in tweepy.Cursor(api.user_timeline, id=username,since=\"2021-03-20\", until=\"2021-03-25\", rpp=100, result_type=\"recent\", include_entities=True, include_rts=False,lang=\"en\", tweet_mode='extended').items(50):\n",
    "        # Appending tweets to the empty array tmp\n",
    "        tmp.append(tweet.full_text)\n",
    "        t1 = tweet.created_at\n",
    "        date.append(t1.hour)\n",
    "        loc.append(tweet.place)\n",
    "    # Printing the tweets\n",
    "    return(tmp)\n",
    "    print(date)\n",
    "    print(loc)\n",
    "    print(len(loc))"
   ]
  },
  {
   "cell_type": "code",
   "execution_count": 26,
   "metadata": {},
   "outputs": [
    {
     "name": "stdout",
     "output_type": "stream",
     "text": [
      "['https://t.co/CjAR6LzIah', 'Very thankful to have gotten my first vaccination shot today. It was effortless and painless. I truly hope everyone can be immunised and protected soon.', 'My best wishes to all the Tata group companies, the employees &amp; their families on the birth anniversary of our founder, Mr. Jamsetji Tata, who has inspired us with his kindness over the years.\\n\\nThis founder’s day has special emotions for me, reminding me of my mentor Mr. JRD Tata https://t.co/GUZCqj9ESk', 'While I appreciate the sentiments expressed by a section of the social media in terms of an award, I would humbly like to request that such campaigns be discontinued. \\n\\nInstead, I consider myself fortunate to be an Indian and to try and contribute to India’s growth and prosperity https://t.co/CzEimjJPp5', 'https://t.co/3qnuvXfE6M', 'Congratulations on the 4 million milestone! I wish you all the very best for the road ahead.\\n\\n@TataMotors @TataMotors_Cars \\n\\nhttps://t.co/eMlRFkxjhk', 'https://t.co/sFwcDyxcgA', 'In past difficult times, entrepreneurs have displayed far sightedness and creativity that could not have been believed to exist. These became the flagpoles of innovation and new technology today. Read at https://t.co/x3JkEpMsQh https://t.co/m0iF0cGzJ9', 'As happy as I am to support this venture, it has been a minority token investment. \\nI have not purchased 50% stake in the company. https://t.co/RXbC5aabiB', 'I’m afraid this too, has not been said by me. I will endeavour to call out fake news whenever I can, but would encourage you to always verify news sources. My picture alongside a quote does not guarantee me having said it, a problem that many people face. https://t.co/pk0S75FxPA', 'This post has neither been said, nor written by me. I urge you to verify media circulated on WhatsApp and social platforms. If I have something to say, I will say it on my official channels. Hope you are safe and do take care. https://t.co/RNVL40aRTB', 'In the spirit of solidarity https://t.co/1Svx5JZ0Vb', 'The COVID 19 crisis is one of the toughest challenges we will face as a race. The Tata Trusts and the Tata group companies have in the past risen to the needs of the nation. At this moment, the need of the hour is greater than any other time. https://t.co/y6jzHxUafM', 'The idea is not to test the limits of our planet and find out how much more damage it can take, but to come together and begin restoration and reversal. We owe it to every generation that comes after. @IndiaClimCollab https://t.co/7BKKWPjvCw', 'It makes me so happy that the Government of Odisha was awarded with the World Habitat Award for the Jaga mission with the Tata Trusts and the Norman Foster Foundation for giving slum dwellers land rights and livable habitat. We are only as strong as the communities we empower. https://t.co/nNZ8xJQsXP', \"A lot has been said about the tragedy of 26/11. The memory of the carnage and loss of life, is still painful. We won't forget the needless suffering caused across the city. But we remain proud of the spirit and the sense of unity of Mumbai. We can be hurt, but not knocked out. https://t.co/8xghKMYG4f\", 'The crowd of people on launch day showed that it wasn’t just about the coffee, but also about relationships. Wishing @StarbucksIndia a Venti-hearted 7 year anniversary month since the inception of Tata-Starbucks with the vision of of Mr. R. K Krishnakumar and Mr. Howard Schultz. https://t.co/ycMBPDTdFW', 'I don’t know about breaking the internet, but I am so excited to join all of you on Instagram (ratantata)! After a long absence from public life, I look forward to exchanging stories and creating something special with such a diverse community! https://t.co/Cq8TFXnFmN', 'Voting is the most powerful right of every citizen and it is our duty to exercise our vote. Please vote, our future depends on it!', 'We congratulate the PM and the IAF for the successful air strikes on the terrorist training camps which Pakistan has claimed never existed! India is proud of the firm action taken in retaliation to the suicide attack on our soldiers a few days ago. @narendramodi', \"I’m excited to announce that I’m again judging @thepeninsulahotels' The Peninsula Classics Best of the Best Award, winner of which will be revealed live from @thepeninsulaparis on 7 Feb 2019. Scroll through to see 8 nominees. #penmoments #bestofthebest2018 https://t.co/o1EgZQhNm5\", 'Proud to have been awarded an honorary degree &amp; fellowship from @SwanseaUni in recognition of our partnership work on #steel #energy in #Wales and #UK @TataSteelUK @TataSteelEurope @info_specific @ESRI_Swansea @RICE_Cymru @10DowningStreet @fmwales', '@narendramodi and #swachhbharat \\nhttps://t.co/uEXxqgCJ98\\nThe Tata Trusts fully support Swachhata Hi Seva. We will do a cleanliness drive on 15th September. https://t.co/SwXWYdFWJc', 'All of us who knew Mr. Atal Bihari Vajpayee are saddened to hear of his passing away. He was a great leader with a great sense of compassion and humor. He will be remembered fondly by a vast number of us.', 'The attached tweet could help fulfill a design to feed 1 billion people. Please see attached. https://t.co/T1VedklvKt', '@AmitShah @BJP4India @BJP4Maharashtra Pleasure mtng Shri @AmitShah with CM @Dev_Fadnavis &amp; other dignitaries. Impressed to learn of progress in implementing Hon’ble PM @NarendraModi’s various national initiatives &amp; reforms  over past 4 yrs. Also discussed commitment of @TataTrusts to support major national programs.', 'Visited Google. Pleasure to meet Larry, Sergey and Sundar again. Excited by new technologies which will have huge impact in years ahead.', 'Always feel nostalgic and inspired when in Jamshedpur... Founder’s Day is always special. https://t.co/cw7KnFROvn', 'Celebrating birthdate of founder Jamsetji Tata. His vision of industrial development &amp; giving back wealth to society has stood test of time.', 'Delighted to inaugurate Naval Tata Hockey Academy in Jamshedpur. Will help young take to India’s national sport with greater vigour. https://t.co/ue03RWEeGy', 'Updated link: Global elimination of malnutrition is an attainable goal-invest in nutrition. Join https://t.co/lPwwP4Joge', 'Global elimination of malnutrition is an attainable goal - invest in nutrition. Join https://t.co/QKEBHnXTRh', 'I wish to express my appreciation to all those involved in the NCLT, and particularly the high integrity of the judicial process. https://t.co/JAbo3AIH2k', 'Delighted to be back in Jamshedpur. Where it all began... https://t.co/2AWhPHQu4s', 'Happy to share my letter to my colleagues on this 178th birth anniversary of our Founder Jamsetji Tata https://t.co/NmieKigJ77', '@MaharashtraSEC https://t.co/n0xGhh2sM8', 'Local body elections are scheduled on February 16th and 21st in Maharashtra. Let’s pledge to vote for a strong future. #VoteKarMaharashtra', '@RNTata2000', 'Congratulations to Chandra! See link. https://t.co/mJe5TpavYE', 'The government’s bold implementation of the demonetization programme needs the nation’s support. https://t.co/tx1ZILSor8', 'Some further thoughts on implementation of demonetization program. https://t.co/RZdicKvFS7', 'Demonetisation of old currency notes by the Modi govt is a bold act that will wipe out black money and corruption. It deserves our support', \"Hearty congratulations to India's armed forces and Intel agencies for successful surgical retaliatory action against Pak terrorist camps.\", \"So proud of Indian govt's firm stand on bycot of SARC mtg &amp; overwhelming support by member nations.\", 'Shocked my a/c was hacked yesterday &amp; spurious tweet sent with malicious intent.Tweet deleted, a/c restored. C link. https://t.co/L0HKIy4nHC', 'Grateful for wide support for AVANTI FINANCE. Committed to make affordable and safe finance available to the underserved population.', '5/20 Rule and Vested Interests https://t.co/fQRtfEZlbK', 'Deeply touched by the kind sentiments &amp; best wishes from well wishers. Thanks so much .', 'Felt proud to be with enthusiastic, young entrepreneurs at T-Hub, the new incubator at Hyderabad. I wish them all the best. @KTRTRS', 'Good article, well worth reading. \\nhttp://t.co/LOibLgFlSa']\n"
     ]
    }
   ],
   "source": [
    "if __name__ == '__main__':\n",
    "\n",
    "    # Here goes the twitter handle for the user\n",
    "    # whose tweets are to be extracted.\n",
    "    tweets = get_tweets(\"RNTata2000\")\n",
    "    # bar = ' '.join(tweets)\n",
    "    # print(type(bar))\n",
    "    # print(bar)\n",
    "    # get_hashtag(\"#mondaythoughts\")\n",
    "    all_sentences = []\n",
    "\n",
    "    for word in tweets:\n",
    "        all_sentences.append(word)\n",
    "\n",
    "    print(all_sentences)\n",
    "    #df1 = df.to_string()\n",
    "\n",
    "    #df_split = df1.split()\n",
    "\n",
    "    #df_split"
   ]
  },
  {
   "cell_type": "code",
   "execution_count": 27,
   "metadata": {},
   "outputs": [
    {
     "name": "stdout",
     "output_type": "stream",
     "text": [
      "['https://t.co/CjAR6LzIah', 'Very', 'thankful', 'to', 'have', 'gotten', 'my', 'first', 'vaccination', 'shot', 'today.', 'It', 'was', 'effortless', 'and', 'painless.', 'I', 'truly', 'hope', 'everyone', 'can', 'be', 'immunised', 'and', 'protected', 'soon.', 'My', 'best', 'wishes', 'to', 'all', 'the', 'Tata', 'group', 'companies,', 'the', 'employees', '&amp;', 'their', 'families', 'on', 'the', 'birth', 'anniversary', 'of', 'our', 'founder,', 'Mr.', 'Jamsetji', 'Tata,', 'who', 'has', 'inspired', 'us', 'with', 'his', 'kindness', 'over', 'the', 'years.', 'This', 'founder’s', 'day', 'has', 'special', 'emotions', 'for', 'me,', 'reminding', 'me', 'of', 'my', 'mentor', 'Mr.', 'JRD', 'Tata', 'https://t.co/GUZCqj9ESk', 'While', 'I', 'appreciate', 'the', 'sentiments', 'expressed', 'by', 'a', 'section', 'of', 'the', 'social', 'media', 'in', 'terms', 'of', 'an', 'award,', 'I', 'would', 'humbly', 'like', 'to', 'request', 'that', 'such', 'campaigns', 'be', 'discontinued.', 'Instead,', 'I', 'consider', 'myself', 'fortunate', 'to', 'be', 'an', 'Indian', 'and', 'to', 'try', 'and', 'contribute', 'to', 'India’s', 'growth', 'and', 'prosperity', 'https://t.co/CzEimjJPp5', 'https://t.co/3qnuvXfE6M', 'Congratulations', 'on', 'the', '4', 'million', 'milestone!', 'I', 'wish', 'you', 'all', 'the', 'very', 'best', 'for', 'the', 'road', 'ahead.', '@TataMotors', '@TataMotors_Cars', 'https://t.co/eMlRFkxjhk', 'https://t.co/sFwcDyxcgA', 'In', 'past', 'difficult', 'times,', 'entrepreneurs', 'have', 'displayed', 'far', 'sightedness', 'and', 'creativity', 'that', 'could', 'not', 'have', 'been', 'believed', 'to', 'exist.', 'These', 'became', 'the', 'flagpoles', 'of', 'innovation', 'and', 'new', 'technology', 'today.', 'Read', 'at', 'https://t.co/x3JkEpMsQh', 'https://t.co/m0iF0cGzJ9', 'As', 'happy', 'as', 'I', 'am', 'to', 'support', 'this', 'venture,', 'it', 'has', 'been', 'a', 'minority', 'token', 'investment.', 'I', 'have', 'not', 'purchased', '50%', 'stake', 'in', 'the', 'company.', 'https://t.co/RXbC5aabiB', 'I’m', 'afraid', 'this', 'too,', 'has', 'not', 'been', 'said', 'by', 'me.', 'I', 'will', 'endeavour', 'to', 'call', 'out', 'fake', 'news', 'whenever', 'I', 'can,', 'but', 'would', 'encourage', 'you', 'to', 'always', 'verify', 'news', 'sources.', 'My', 'picture', 'alongside', 'a', 'quote', 'does', 'not', 'guarantee', 'me', 'having', 'said', 'it,', 'a', 'problem', 'that', 'many', 'people', 'face.', 'https://t.co/pk0S75FxPA', 'This', 'post', 'has', 'neither', 'been', 'said,', 'nor', 'written', 'by', 'me.', 'I', 'urge', 'you', 'to', 'verify', 'media', 'circulated', 'on', 'WhatsApp', 'and', 'social', 'platforms.', 'If', 'I', 'have', 'something', 'to', 'say,', 'I', 'will', 'say', 'it', 'on', 'my', 'official', 'channels.', 'Hope', 'you', 'are', 'safe', 'and', 'do', 'take', 'care.', 'https://t.co/RNVL40aRTB', 'In', 'the', 'spirit', 'of', 'solidarity', 'https://t.co/1Svx5JZ0Vb', 'The', 'COVID', '19', 'crisis', 'is', 'one', 'of', 'the', 'toughest', 'challenges', 'we', 'will', 'face', 'as', 'a', 'race.', 'The', 'Tata', 'Trusts', 'and', 'the', 'Tata', 'group', 'companies', 'have', 'in', 'the', 'past', 'risen', 'to', 'the', 'needs', 'of', 'the', 'nation.', 'At', 'this', 'moment,', 'the', 'need', 'of', 'the', 'hour', 'is', 'greater', 'than', 'any', 'other', 'time.', 'https://t.co/y6jzHxUafM', 'The', 'idea', 'is', 'not', 'to', 'test', 'the', 'limits', 'of', 'our', 'planet', 'and', 'find', 'out', 'how', 'much', 'more', 'damage', 'it', 'can', 'take,', 'but', 'to', 'come', 'together', 'and', 'begin', 'restoration', 'and', 'reversal.', 'We', 'owe', 'it', 'to', 'every', 'generation', 'that', 'comes', 'after.', '@IndiaClimCollab', 'https://t.co/7BKKWPjvCw', 'It', 'makes', 'me', 'so', 'happy', 'that', 'the', 'Government', 'of', 'Odisha', 'was', 'awarded', 'with', 'the', 'World', 'Habitat', 'Award', 'for', 'the', 'Jaga', 'mission', 'with', 'the', 'Tata', 'Trusts', 'and', 'the', 'Norman', 'Foster', 'Foundation', 'for', 'giving', 'slum', 'dwellers', 'land', 'rights', 'and', 'livable', 'habitat.', 'We', 'are', 'only', 'as', 'strong', 'as', 'the', 'communities', 'we', 'empower.', 'https://t.co/nNZ8xJQsXP', 'A', 'lot', 'has', 'been', 'said', 'about', 'the', 'tragedy', 'of', '26/11.', 'The', 'memory', 'of', 'the', 'carnage', 'and', 'loss', 'of', 'life,', 'is', 'still', 'painful.', 'We', \"won't\", 'forget', 'the', 'needless', 'suffering', 'caused', 'across', 'the', 'city.', 'But', 'we', 'remain', 'proud', 'of', 'the', 'spirit', 'and', 'the', 'sense', 'of', 'unity', 'of', 'Mumbai.', 'We', 'can', 'be', 'hurt,', 'but', 'not', 'knocked', 'out.', 'https://t.co/8xghKMYG4f', 'The', 'crowd', 'of', 'people', 'on', 'launch', 'day', 'showed', 'that', 'it', 'wasn’t', 'just', 'about', 'the', 'coffee,', 'but', 'also', 'about', 'relationships.', 'Wishing', '@StarbucksIndia', 'a', 'Venti-hearted', '7', 'year', 'anniversary', 'month', 'since', 'the', 'inception', 'of', 'Tata-Starbucks', 'with', 'the', 'vision', 'of', 'of', 'Mr.', 'R.', 'K', 'Krishnakumar', 'and', 'Mr.', 'Howard', 'Schultz.', 'https://t.co/ycMBPDTdFW', 'I', 'don’t', 'know', 'about', 'breaking', 'the', 'internet,', 'but', 'I', 'am', 'so', 'excited', 'to', 'join', 'all', 'of', 'you', 'on', 'Instagram', '(ratantata)!', 'After', 'a', 'long', 'absence', 'from', 'public', 'life,', 'I', 'look', 'forward', 'to', 'exchanging', 'stories', 'and', 'creating', 'something', 'special', 'with', 'such', 'a', 'diverse', 'community!', 'https://t.co/Cq8TFXnFmN', 'Voting', 'is', 'the', 'most', 'powerful', 'right', 'of', 'every', 'citizen', 'and', 'it', 'is', 'our', 'duty', 'to', 'exercise', 'our', 'vote.', 'Please', 'vote,', 'our', 'future', 'depends', 'on', 'it!', 'We', 'congratulate', 'the', 'PM', 'and', 'the', 'IAF', 'for', 'the', 'successful', 'air', 'strikes', 'on', 'the', 'terrorist', 'training', 'camps', 'which', 'Pakistan', 'has', 'claimed', 'never', 'existed!', 'India', 'is', 'proud', 'of', 'the', 'firm', 'action', 'taken', 'in', 'retaliation', 'to', 'the', 'suicide', 'attack', 'on', 'our', 'soldiers', 'a', 'few', 'days', 'ago.', '@narendramodi', 'I’m', 'excited', 'to', 'announce', 'that', 'I’m', 'again', 'judging', \"@thepeninsulahotels'\", 'The', 'Peninsula', 'Classics', 'Best', 'of', 'the', 'Best', 'Award,', 'winner', 'of', 'which', 'will', 'be', 'revealed', 'live', 'from', '@thepeninsulaparis', 'on', '7', 'Feb', '2019.', 'Scroll', 'through', 'to', 'see', '8', 'nominees.', '#penmoments', '#bestofthebest2018', 'https://t.co/o1EgZQhNm5', 'Proud', 'to', 'have', 'been', 'awarded', 'an', 'honorary', 'degree', '&amp;', 'fellowship', 'from', '@SwanseaUni', 'in', 'recognition', 'of', 'our', 'partnership', 'work', 'on', '#steel', '#energy', 'in', '#Wales', 'and', '#UK', '@TataSteelUK', '@TataSteelEurope', '@info_specific', '@ESRI_Swansea', '@RICE_Cymru', '@10DowningStreet', '@fmwales', '@narendramodi', 'and', '#swachhbharat', 'https://t.co/uEXxqgCJ98', 'The', 'Tata', 'Trusts', 'fully', 'support', 'Swachhata', 'Hi', 'Seva.', 'We', 'will', 'do', 'a', 'cleanliness', 'drive', 'on', '15th', 'September.', 'https://t.co/SwXWYdFWJc', 'All', 'of', 'us', 'who', 'knew', 'Mr.', 'Atal', 'Bihari', 'Vajpayee', 'are', 'saddened', 'to', 'hear', 'of', 'his', 'passing', 'away.', 'He', 'was', 'a', 'great', 'leader', 'with', 'a', 'great', 'sense', 'of', 'compassion', 'and', 'humor.', 'He', 'will', 'be', 'remembered', 'fondly', 'by', 'a', 'vast', 'number', 'of', 'us.', 'The', 'attached', 'tweet', 'could', 'help', 'fulfill', 'a', 'design', 'to', 'feed', '1', 'billion', 'people.', 'Please', 'see', 'attached.', 'https://t.co/T1VedklvKt', '@AmitShah', '@BJP4India', '@BJP4Maharashtra', 'Pleasure', 'mtng', 'Shri', '@AmitShah', 'with', 'CM', '@Dev_Fadnavis', '&amp;', 'other', 'dignitaries.', 'Impressed', 'to', 'learn', 'of', 'progress', 'in', 'implementing', 'Hon’ble', 'PM', '@NarendraModi’s', 'various', 'national', 'initiatives', '&amp;', 'reforms', 'over', 'past', '4', 'yrs.', 'Also', 'discussed', 'commitment', 'of', '@TataTrusts', 'to', 'support', 'major', 'national', 'programs.', 'Visited', 'Google.', 'Pleasure', 'to', 'meet', 'Larry,', 'Sergey', 'and', 'Sundar', 'again.', 'Excited', 'by', 'new', 'technologies', 'which', 'will', 'have', 'huge', 'impact', 'in', 'years', 'ahead.', 'Always', 'feel', 'nostalgic', 'and', 'inspired', 'when', 'in', 'Jamshedpur...', 'Founder’s', 'Day', 'is', 'always', 'special.', 'https://t.co/cw7KnFROvn', 'Celebrating', 'birthdate', 'of', 'founder', 'Jamsetji', 'Tata.', 'His', 'vision', 'of', 'industrial', 'development', '&amp;', 'giving', 'back', 'wealth', 'to', 'society', 'has', 'stood', 'test', 'of', 'time.', 'Delighted', 'to', 'inaugurate', 'Naval', 'Tata', 'Hockey', 'Academy', 'in', 'Jamshedpur.', 'Will', 'help', 'young', 'take', 'to', 'India’s', 'national', 'sport', 'with', 'greater', 'vigour.', 'https://t.co/ue03RWEeGy', 'Updated', 'link:', 'Global', 'elimination', 'of', 'malnutrition', 'is', 'an', 'attainable', 'goal-invest', 'in', 'nutrition.', 'Join', 'https://t.co/lPwwP4Joge', 'Global', 'elimination', 'of', 'malnutrition', 'is', 'an', 'attainable', 'goal', '-', 'invest', 'in', 'nutrition.', 'Join', 'https://t.co/QKEBHnXTRh', 'I', 'wish', 'to', 'express', 'my', 'appreciation', 'to', 'all', 'those', 'involved', 'in', 'the', 'NCLT,', 'and', 'particularly', 'the', 'high', 'integrity', 'of', 'the', 'judicial', 'process.', 'https://t.co/JAbo3AIH2k', 'Delighted', 'to', 'be', 'back', 'in', 'Jamshedpur.', 'Where', 'it', 'all', 'began...', 'https://t.co/2AWhPHQu4s', 'Happy', 'to', 'share', 'my', 'letter', 'to', 'my', 'colleagues', 'on', 'this', '178th', 'birth', 'anniversary', 'of', 'our', 'Founder', 'Jamsetji', 'Tata', 'https://t.co/NmieKigJ77', '@MaharashtraSEC', 'https://t.co/n0xGhh2sM8', 'Local', 'body', 'elections', 'are', 'scheduled', 'on', 'February', '16th', 'and', '21st', 'in', 'Maharashtra.', 'Let’s', 'pledge', 'to', 'vote', 'for', 'a', 'strong', 'future.', '#VoteKarMaharashtra', '@RNTata2000', 'Congratulations', 'to', 'Chandra!', 'See', 'link.', 'https://t.co/mJe5TpavYE', 'The', 'government’s', 'bold', 'implementation', 'of', 'the', 'demonetization', 'programme', 'needs', 'the', 'nation’s', 'support.', 'https://t.co/tx1ZILSor8', 'Some', 'further', 'thoughts', 'on', 'implementation', 'of', 'demonetization', 'program.', 'https://t.co/RZdicKvFS7', 'Demonetisation', 'of', 'old', 'currency', 'notes', 'by', 'the', 'Modi', 'govt', 'is', 'a', 'bold', 'act', 'that', 'will', 'wipe', 'out', 'black', 'money', 'and', 'corruption.', 'It', 'deserves', 'our', 'support', 'Hearty', 'congratulations', 'to', \"India's\", 'armed', 'forces', 'and', 'Intel', 'agencies', 'for', 'successful', 'surgical', 'retaliatory', 'action', 'against', 'Pak', 'terrorist', 'camps.', 'So', 'proud', 'of', 'Indian', \"govt's\", 'firm', 'stand', 'on', 'bycot', 'of', 'SARC', 'mtg', '&amp;', 'overwhelming', 'support', 'by', 'member', 'nations.', 'Shocked', 'my', 'a/c', 'was', 'hacked', 'yesterday', '&amp;', 'spurious', 'tweet', 'sent', 'with', 'malicious', 'intent.Tweet', 'deleted,', 'a/c', 'restored.', 'C', 'link.', 'https://t.co/L0HKIy4nHC', 'Grateful', 'for', 'wide', 'support', 'for', 'AVANTI', 'FINANCE.', 'Committed', 'to', 'make', 'affordable', 'and', 'safe', 'finance', 'available', 'to', 'the', 'underserved', 'population.', '5/20', 'Rule', 'and', 'Vested', 'Interests', 'https://t.co/fQRtfEZlbK', 'Deeply', 'touched', 'by', 'the', 'kind', 'sentiments', '&amp;', 'best', 'wishes', 'from', 'well', 'wishers.', 'Thanks', 'so', 'much', '.', 'Felt', 'proud', 'to', 'be', 'with', 'enthusiastic,', 'young', 'entrepreneurs', 'at', 'T-Hub,', 'the', 'new', 'incubator', 'at', 'Hyderabad.', 'I', 'wish', 'them', 'all', 'the', 'best.', '@KTRTRS', 'Good', 'article,', 'well', 'worth', 'reading.', 'http://t.co/LOibLgFlSa']\n"
     ]
    }
   ],
   "source": [
    "    lines = list()\n",
    "    for line in all_sentences:    \n",
    "        words = line.split()\n",
    "        for w in words: \n",
    "            lines.append(w)\n",
    "    print(lines)"
   ]
  },
  {
   "cell_type": "code",
   "execution_count": 28,
   "metadata": {},
   "outputs": [
    {
     "name": "stdout",
     "output_type": "stream",
     "text": [
      "['veri', 'thank', 'to', 'have', 'gotten', 'my', 'first', 'vaccin', 'shot', 'today', 'it', 'was', 'effortless', 'and', 'painless', 'i', 'truli', 'hope', 'everyon', 'can', 'be', 'immunis', 'and', 'protect', 'soon', 'my', 'best', 'wish', 'to', 'all', 'the', 'tata', 'group', 'compani', 'the', 'employe', 'amp', 'their', 'famili', 'on', 'the', 'birth', 'anniversari', 'of', 'our', 'founder', 'mr', 'jamsetji', 'tata', 'who', 'has', 'inspir', 'us', 'with', 'his', 'kind', 'over', 'the', 'year', 'this', 'founder', 'day', 'has', 'special', 'emot', 'for', 'me', 'remind', 'me', 'of', 'my', 'mentor', 'mr', 'jrd', 'tata', 'while', 'i', 'appreci', 'the', 'sentiment', 'express', 'by', 'a', 'section', 'of', 'the', 'social', 'media', 'in', 'term', 'of', 'an', 'award', 'i', 'would', 'humbl', 'like', 'to', 'request', 'that', 'such', 'campaign', 'be', 'discontinu', 'instead', 'i', 'consid', 'myself', 'fortun', 'to', 'be', 'an', 'indian', 'and', 'to', 'tri', 'and', 'contribut', 'to', 'india', 'growth', 'and', 'prosper', 'congratul', 'on', 'the', '4', 'million', 'mileston', 'i', 'wish', 'you', 'all', 'the', 'veri', 'best', 'for', 'the', 'road', 'ahead', 'tatamotor', 'tatamotorscar', 'in', 'past', 'difficult', 'time', 'entrepreneur', 'have', 'display', 'far', 'sighted', 'and', 'creativ', 'that', 'could', 'not', 'have', 'been', 'believ', 'to', 'exist', 'these', 'becam', 'the', 'flagpol', 'of', 'innov', 'and', 'new', 'technolog', 'today', 'read', 'at', 'as', 'happi', 'as', 'i', 'am', 'to', 'support', 'this', 'ventur', 'it', 'has', 'been', 'a', 'minor', 'token', 'invest', 'i', 'have', 'not', 'purchas', '50', 'stake', 'in', 'the', 'compani', 'im', 'afraid', 'this', 'too', 'has', 'not', 'been', 'said', 'by', 'me', 'i', 'will', 'endeavour', 'to', 'call', 'out', 'fake', 'news', 'whenev', 'i', 'can', 'but', 'would', 'encourag', 'you', 'to', 'alway', 'verifi', 'news', 'sourc', 'my', 'pictur', 'alongsid', 'a', 'quot', 'doe', 'not', 'guarante', 'me', 'have', 'said', 'it', 'a', 'problem', 'that', 'mani', 'peopl', 'face', 'this', 'post', 'has', 'neither', 'been', 'said', 'nor', 'written', 'by', 'me', 'i', 'urg', 'you', 'to', 'verifi', 'media', 'circul', 'on', 'whatsapp', 'and', 'social', 'platform', 'if', 'i', 'have', 'someth', 'to', 'say', 'i', 'will', 'say', 'it', 'on', 'my', 'offici', 'channel', 'hope', 'you', 'are', 'safe', 'and', 'do', 'take', 'care', 'in', 'the', 'spirit', 'of', 'solidar', 'the', 'covid', '19', 'crisi', 'is', 'one', 'of', 'the', 'toughest', 'challeng', 'we', 'will', 'face', 'as', 'a', 'race', 'the', 'tata', 'trust', 'and', 'the', 'tata', 'group', 'compani', 'have', 'in', 'the', 'past', 'risen', 'to', 'the', 'need', 'of', 'the', 'nation', 'at', 'this', 'moment', 'the', 'need', 'of', 'the', 'hour', 'is', 'greater', 'than', 'ani', 'other', 'time', 'the', 'idea', 'is', 'not', 'to', 'test', 'the', 'limit', 'of', 'our', 'planet', 'and', 'find', 'out', 'how', 'much', 'more', 'damag', 'it', 'can', 'take', 'but', 'to', 'come', 'togeth', 'and', 'begin', 'restor', 'and', 'revers', 'we', 'owe', 'it', 'to', 'everi', 'generat', 'that', 'come', 'after', 'indiaclimcollab', 'it', 'make', 'me', 'so', 'happi', 'that', 'the', 'govern', 'of', 'odisha', 'was', 'award', 'with', 'the', 'world', 'habitat', 'award', 'for', 'the', 'jaga', 'mission', 'with', 'the', 'tata', 'trust', 'and', 'the', 'norman', 'foster', 'foundat', 'for', 'give', 'slum', 'dweller', 'land', 'right', 'and', 'livabl', 'habitat', 'we', 'are', 'onli', 'as', 'strong', 'as', 'the', 'communiti', 'we', 'empow', 'a', 'lot', 'has', 'been', 'said', 'about', 'the', 'tragedi', 'of', '2611', 'the', 'memori', 'of', 'the', 'carnag', 'and', 'loss', 'of', 'life', 'is', 'still', 'pain', 'we', 'wont', 'forget', 'the', 'needless', 'suffer', 'caus', 'across', 'the', 'citi', 'but', 'we', 'remain', 'proud', 'of', 'the', 'spirit', 'and', 'the', 'sens', 'of', 'uniti', 'of', 'mumbai', 'we', 'can', 'be', 'hurt', 'but', 'not', 'knock', 'out', 'the', 'crowd', 'of', 'peopl', 'on', 'launch', 'day', 'show', 'that', 'it', 'wasnt', 'just', 'about', 'the', 'coffe', 'but', 'also', 'about', 'relationship', 'wish', 'starbucksindia', 'a', 'ventiheart', '7', 'year', 'anniversari', 'month', 'sinc', 'the', 'incept', 'of', 'tatastarbuck', 'with', 'the', 'vision', 'of', 'of', 'mr', 'r', 'k', 'krishnakumar', 'and', 'mr', 'howard', 'schultz', 'i', 'dont', 'know', 'about', 'break', 'the', 'internet', 'but', 'i', 'am', 'so', 'excit', 'to', 'join', 'all', 'of', 'you', 'on', 'instagram', 'ratantata', 'after', 'a', 'long', 'absenc', 'from', 'public', 'life', 'i', 'look', 'forward', 'to', 'exchang', 'stori', 'and', 'creat', 'someth', 'special', 'with', 'such', 'a', 'divers', 'communiti', 'vote', 'is', 'the', 'most', 'power', 'right', 'of', 'everi', 'citizen', 'and', 'it', 'is', 'our', 'duti', 'to', 'exercis', 'our', 'vote', 'pleas', 'vote', 'our', 'futur', 'depend', 'on', 'it', 'we', 'congratul', 'the', 'pm', 'and', 'the', 'iaf', 'for', 'the', 'success', 'air', 'strike', 'on', 'the', 'terrorist', 'train', 'camp', 'which', 'pakistan', 'has', 'claim', 'never', 'exist', 'india', 'is', 'proud', 'of', 'the', 'firm', 'action', 'taken', 'in', 'retali', 'to', 'the', 'suicid', 'attack', 'on', 'our', 'soldier', 'a', 'few', 'day', 'ago', 'narendramodi', 'im', 'excit', 'to', 'announc', 'that', 'im', 'again', 'judg', 'thepeninsulahotel', 'the', 'peninsula', 'classic', 'best', 'of', 'the', 'best', 'award', 'winner', 'of', 'which', 'will', 'be', 'reveal', 'live', 'from', 'thepeninsulapari', 'on', '7', 'feb', '2019', 'scroll', 'through', 'to', 'see', '8', 'nomine', 'penmoment', 'bestofthebest2018', 'proud', 'to', 'have', 'been', 'award', 'an', 'honorari', 'degre', 'amp', 'fellowship', 'from', 'swanseauni', 'in', 'recognit', 'of', 'our', 'partnership', 'work', 'on', 'steel', 'energi', 'in', 'wale', 'and', 'uk', 'tatasteeluk', 'tatasteeleurop', 'infospecif', 'esriswansea', 'ricecymru', '10downingstreet', 'fmwale', 'narendramodi', 'and', 'swachhbharat', 'the', 'tata', 'trust', 'fulli', 'support', 'swachhata', 'hi', 'seva', 'we', 'will', 'do', 'a', 'cleanli', 'drive', 'on', '15th', 'septemb', 'all', 'of', 'us', 'who', 'knew', 'mr', 'atal', 'bihari', 'vajpaye', 'are', 'sadden', 'to', 'hear', 'of', 'his', 'pass', 'away', 'he', 'was', 'a', 'great', 'leader', 'with', 'a', 'great', 'sens', 'of', 'compass', 'and', 'humor', 'he', 'will', 'be', 'rememb', 'fond', 'by', 'a', 'vast', 'number', 'of', 'us', 'the', 'attach', 'tweet', 'could', 'help', 'fulfil', 'a', 'design', 'to', 'feed', '1', 'billion', 'peopl', 'pleas', 'see', 'attach', 'amitshah', 'bjp4india', 'bjp4maharashtra', 'pleasur', 'mtng', 'shri', 'amitshah', 'with', 'cm', 'devfadnavi', 'amp', 'other', 'dignitari', 'impress', 'to', 'learn', 'of', 'progress', 'in', 'implement', 'honbl', 'pm', 'narendramodi', 'various', 'nation', 'initi', 'amp', 'reform', 'over', 'past', '4', 'yrs', 'also', 'discuss', 'commit', 'of', 'tatatrust', 'to', 'support', 'major', 'nation', 'program', 'visit', 'googl', 'pleasur', 'to', 'meet', 'larri', 'sergey', 'and', 'sundar', 'again', 'excit', 'by', 'new', 'technolog', 'which', 'will', 'have', 'huge', 'impact', 'in', 'year', 'ahead', 'alway', 'feel', 'nostalg', 'and', 'inspir', 'when', 'in', 'jamshedpur', 'founder', 'day', 'is', 'alway', 'special', 'celebr', 'birthdat', 'of', 'founder', 'jamsetji', 'tata', 'his', 'vision', 'of', 'industri', 'develop', 'amp', 'give', 'back', 'wealth', 'to', 'societi', 'has', 'stood', 'test', 'of', 'time', 'delight', 'to', 'inaugur', 'naval', 'tata', 'hockey', 'academi', 'in', 'jamshedpur', 'will', 'help', 'young', 'take', 'to', 'india', 'nation', 'sport', 'with', 'greater', 'vigour', 'updat', 'link', 'global', 'elimin', 'of', 'malnutrit', 'is', 'an', 'attain', 'goalinvest', 'in', 'nutrit', 'join', 'global', 'elimin', 'of', 'malnutrit', 'is', 'an', 'attain', 'goal', 'invest', 'in', 'nutrit', 'join', 'i', 'wish', 'to', 'express', 'my', 'appreci', 'to', 'all', 'those', 'involv', 'in', 'the', 'nclt', 'and', 'particular', 'the', 'high', 'integr', 'of', 'the', 'judici', 'process', 'delight', 'to', 'be', 'back', 'in', 'jamshedpur', 'where', 'it', 'all', 'began', 'happi', 'to', 'share', 'my', 'letter', 'to', 'my', 'colleagu', 'on', 'this', '178th', 'birth', 'anniversari', 'of', 'our', 'founder', 'jamsetji', 'tata', 'maharashtrasec', 'local', 'bodi', 'elect', 'are', 'schedul', 'on', 'februari', '16th', 'and', '21st', 'in', 'maharashtra', 'let', 'pledg', 'to', 'vote', 'for', 'a', 'strong', 'futur', 'votekarmaharashtra', 'rntata2000', 'congratul', 'to', 'chandra', 'see', 'link', 'the', 'govern', 'bold', 'implement', 'of', 'the', 'demonet', 'programm', 'need', 'the', 'nation', 'support', 'some', 'further', 'thought', 'on', 'implement', 'of', 'demonet', 'program', 'demonetis', 'of', 'old', 'currenc', 'note', 'by', 'the', 'modi', 'govt', 'is', 'a', 'bold', 'act', 'that', 'will', 'wipe', 'out', 'black', 'money', 'and', 'corrupt', 'it', 'deserv', 'our', 'support', 'hearti', 'congratul', 'to', 'india', 'arm', 'forc', 'and', 'intel', 'agenc', 'for', 'success', 'surgic', 'retaliatori', 'action', 'against', 'pak', 'terrorist', 'camp', 'so', 'proud', 'of', 'indian', 'govt', 'firm', 'stand', 'on', 'bycot', 'of', 'sarc', 'mtg', 'amp', 'overwhelm', 'support', 'by', 'member', 'nation', 'shock', 'my', 'ac', 'was', 'hack', 'yesterday', 'amp', 'spurious', 'tweet', 'sent', 'with', 'malici', 'intenttweet', 'delet', 'ac', 'restor', 'c', 'link', 'grate', 'for', 'wide', 'support', 'for', 'avanti', 'financ', 'commit', 'to', 'make', 'afford', 'and', 'safe', 'financ', 'avail', 'to', 'the', 'underserv', 'popul', '520', 'rule', 'and', 'vest', 'interest', 'deepli', 'touch', 'by', 'the', 'kind', 'sentiment', 'amp', 'best', 'wish', 'from', 'well', 'wisher', 'thank', 'so', 'much', 'felt', 'proud', 'to', 'be', 'with', 'enthusiast', 'young', 'entrepreneur', 'at', 'thub', 'the', 'new', 'incub', 'at', 'hyderabad', 'i', 'wish', 'them', 'all', 'the', 'best', 'ktrtrs', 'good', 'articl', 'well', 'worth', 'read']\n"
     ]
    }
   ],
   "source": [
    "#Removing Punctuation\n",
    "lines = [re.sub(r'[^A-Za-z0-9]+', '', x) for x in lines]\n",
    "lines = [re.sub(r\"http\\S+|www\\S+|https\\S+\", '', x, flags=re.MULTILINE) for x in lines]\n",
    "lines2 = []\n",
    "for word in lines:\n",
    "    if word != '':\n",
    "        lines2.append(word)\n",
    "#This is stemming the words to their root\n",
    "from nltk.stem.snowball import SnowballStemmer\n",
    "# The Snowball Stemmer requires that you pass a language parameter\n",
    "s_stemmer = SnowballStemmer(language='english')\n",
    "stem = []\n",
    "for word in lines2:\n",
    "    stem.append(s_stemmer.stem(word))  \n",
    "print(stem)"
   ]
  },
  {
   "cell_type": "code",
   "execution_count": 29,
   "metadata": {},
   "outputs": [
    {
     "name": "stdout",
     "output_type": "stream",
     "text": [
      "tata       10\n",
      "amp         8\n",
      "support     7\n",
      "best        6\n",
      "nation      6\n",
      "           ..\n",
      "hear        1\n",
      "public      1\n",
      "incept      1\n",
      "protect     1\n",
      "emot        1\n",
      "Name: 0, Length: 489, dtype: int64\n"
     ]
    }
   ],
   "source": [
    "stem2 = []\n",
    "for word in stem:\n",
    "    if word not in stop_words:\n",
    "        stem2.append(word)\n",
    "\n",
    "df = pd.DataFrame(stem2)\n",
    "df = df[0].value_counts()\n",
    "\n",
    "#This will give frequencies of our words\n",
    "from nltk.probability import FreqDist\n",
    "freqdoctor = FreqDist()\n",
    "for words in df:\n",
    "     freqdoctor[words] += 1\n",
    "freqdoctor\n",
    "print(df)\n"
   ]
  },
  {
   "cell_type": "code",
   "execution_count": 30,
   "metadata": {},
   "outputs": [
    {
     "name": "stdout",
     "output_type": "stream",
     "text": [
      "['tata' 'support' 'best' 'nation' 'wish' 'proud' 'award' 'mr' 'founder'\n",
      " 'vote' 'day' 'said' 'india' 'congratul' 'see' 'trust' 'us' 'excit'\n",
      " 'implement' 'peopl' 'year']\n",
      "[10  7  6  6  6  5  5  5  5  4  4  4  4  4  3  3  3  3  3  3  3]\n",
      "<class 'numpy.ndarray'>\n",
      "<class 'numpy.ndarray'>\n"
     ]
    }
   ],
   "source": [
    "df = df[df.index != 'amp']\n",
    "df = df[:21,]\n",
    "index = df.index\n",
    "top10words_count = df.values\n",
    "top10words = index.to_numpy(dtype='str')\n",
    "print(top10words)\n",
    "print(top10words_count)\n",
    "print(type(value))\n",
    "print(type(result))"
   ]
  },
  {
   "cell_type": "code",
   "execution_count": 31,
   "metadata": {},
   "outputs": [],
   "source": [
    "import spacy\n",
    "from spacy import displacy\n",
    "from collections import Counter\n",
    "import en_core_web_sm\n",
    "nlp = en_core_web_sm.load()"
   ]
  },
  {
   "cell_type": "code",
   "execution_count": 32,
   "metadata": {},
   "outputs": [],
   "source": [
    "def show_ents(doc):\n",
    "    if doc.ents:\n",
    "        for ent in doc.ents:\n",
    "            print(ent.text + ' - ' + ent.label_ + ' - ' + str(spacy.explain(ent.label_)))"
   ]
  },
  {
   "cell_type": "code",
   "execution_count": 33,
   "metadata": {},
   "outputs": [],
   "source": [
    "str1 = \" \" \n",
    "stem2 = str1.join(lines2)\n",
    "\n",
    "stem2 = nlp(stem2)\n",
    "\n",
    "label = [(X.text, X.label_) for X in stem2.ents]\n",
    "\n",
    "df6 = pd.DataFrame(label, columns = ['Word','Entity'])\n",
    "\n",
    "df7 = df6.where(df6['Entity'] == 'ORG')\n",
    "\n",
    "df7 = df7['Word'].value_counts()"
   ]
  },
  {
   "cell_type": "code",
   "execution_count": 34,
   "metadata": {},
   "outputs": [
    {
     "name": "stdout",
     "output_type": "stream",
     "text": [
      "Tata                                             2\n",
      "Wishing StarbucksIndia a Ventihearted            1\n",
      "Maharashtra Lets                                 1\n",
      "WhatsApp                                         1\n",
      "KTRTRS                                           1\n",
      "the World Habitat Award                          1\n",
      "Intel                                            1\n",
      "the Tata Trusts                                  1\n",
      "Naval Tata Hockey Academy                        1\n",
      "the Norman Foster Foundation                     1\n",
      "bestofthebest2018 Proud                          1\n",
      "The Tata Trusts                                  1\n",
      "VoteKarMaharashtra RNTata2000 Congratulations    1\n",
      "AVANTI FINANCE Committed                         1\n",
      "SwanseaUni                                       1\n",
      "NCLT                                             1\n",
      "TataStarbucks                                    1\n",
      "ESRISwansea RICECymru 10DowningStreet            1\n",
      "Name: Word, dtype: int64\n"
     ]
    }
   ],
   "source": [
    "print(df7[:20,])"
   ]
  },
  {
   "cell_type": "code",
   "execution_count": 35,
   "metadata": {},
   "outputs": [
    {
     "name": "stdout",
     "output_type": "stream",
     "text": [
      "['Tata' 'Wishing StarbucksIndia a Ventihearted' 'Maharashtra Lets'\n",
      " 'WhatsApp' 'KTRTRS' 'the World Habitat Award' 'Intel' 'the Tata Trusts']\n",
      "[2 1 1 1 1 1 1 1]\n"
     ]
    }
   ],
   "source": [
    "df7 = df7[df7.index != 'amp']\n",
    "df7 = df7[:8,]\n",
    "index = df7.index\n",
    "orgs_count = df7.values\n",
    "orgs = index.to_numpy(dtype='str')\n",
    "print(orgs)\n",
    "print(orgs_count)"
   ]
  },
  {
   "cell_type": "code",
   "execution_count": null,
   "metadata": {},
   "outputs": [],
   "source": []
  }
 ],
 "metadata": {
  "kernelspec": {
   "display_name": "Myvenv",
   "language": "python",
   "name": "myvenv"
  },
  "language_info": {
   "codemirror_mode": {
    "name": "ipython",
    "version": 3
   },
   "file_extension": ".py",
   "mimetype": "text/x-python",
   "name": "python",
   "nbconvert_exporter": "python",
   "pygments_lexer": "ipython3",
   "version": "3.9.4"
  }
 },
 "nbformat": 4,
 "nbformat_minor": 4
}

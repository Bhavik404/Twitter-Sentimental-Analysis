{
 "cells": [
  {
   "cell_type": "code",
   "execution_count": 2,
   "metadata": {},
   "outputs": [
    {
     "name": "stderr",
     "output_type": "stream",
     "text": [
      "[nltk_data] Downloading package punkt to\n",
      "[nltk_data]     C:\\Users\\Wadiya\\AppData\\Roaming\\nltk_data...\n",
      "[nltk_data]   Package punkt is already up-to-date!\n",
      "[nltk_data] Downloading package wordnet to\n",
      "[nltk_data]     C:\\Users\\Wadiya\\AppData\\Roaming\\nltk_data...\n",
      "[nltk_data]   Package wordnet is already up-to-date!\n"
     ]
    }
   ],
   "source": [
    "import tweepy\n",
    "import nltk\n",
    "nltk.download('punkt')\n",
    "nltk.download('wordnet')\n",
    "from nltk import sent_tokenize, word_tokenize\n",
    "from nltk.stem.snowball import SnowballStemmer\n",
    "from nltk.stem.wordnet import WordNetLemmatizer\n",
    "from nltk.corpus import stopwords\n",
    "stop_words = set(stopwords.words('english'))\n",
    "import pandas as pd\n",
    "import numpy as np\n",
    "import re  \n",
    "import spacy\n",
    "nlp = spacy.load('en_core_web_lg')\n",
    "from datetime import *"
   ]
  },
  {
   "cell_type": "code",
   "execution_count": 50,
   "metadata": {},
   "outputs": [],
   "source": [
    "consumer_key = \"Ie9GlyLg24Rnu1KV6aXkQvLPh\"\n",
    "consumer_secret = \"njAvJEOhMicoxXs40OLtCtHvnB2TgA6jRwUYujtUo3v9Fb1ZXZ\"\n",
    "access_key = \"794428634530361344-K73P7BxwHopfsfQ3aS2mbSf8lS2NaLC\"\n",
    "access_secret = \"MwfrGvSKZ7ugeFBiC9vaYmYluEwe0anmugAuWP3DnFpHR\"\n",
    "\n",
    "def get_tweets(username):\n",
    "    # Authorization to consumer key and consumer secret\n",
    "    auth = tweepy.OAuthHandler(consumer_key, consumer_secret)\n",
    "    # Access to user's access key and access secret\n",
    "    auth.set_access_token(access_key, access_secret)\n",
    "    # Calling api\n",
    "    api = tweepy.API(auth)\n",
    "    # Empty Array\n",
    "    tmp = []\n",
    "    date=[]\n",
    "    loc = []\n",
    "    for tweet in tweepy.Cursor(api.user_timeline, id=username,since=\"2021-03-20\", until=\"2021-03-25\", rpp=100, result_type=\"recent\", include_entities=True, include_rts=False,lang=\"en\", tweet_mode='extended').items(50):\n",
    "        # Appending tweets to the empty array tmp\n",
    "        tmp.append(tweet.full_text)\n",
    "        t1 = tweet.created_at\n",
    "        date.append(t1.hour)\n",
    "        loc.append(tweet.place)\n",
    "    # Printing the tweets\n",
    "    return(tmp)\n",
    "    print(date)\n",
    "    print(loc)\n",
    "    print(len(loc))"
   ]
  },
  {
   "cell_type": "code",
   "execution_count": 51,
   "metadata": {},
   "outputs": [
    {
     "name": "stdout",
     "output_type": "stream",
     "text": [
      "['We celebrate 20 years of partnership with @Proximus! With focus on building a modern gigabit network in Belgium, we will help them develop next-gen #telecom infrastructure using fiber and #5G.\\n\\nRead the full report on ⬇ https://t.co/qRy3DJnzPM', 'We have joined forces with @Ericsson\\xa0to build &amp; operate its world-class #cloud-based R&amp;D environment. Further, we are also launching a 24x7 command center at Hyderabad, India\\xa0to help accelerate their R&amp;D &amp; product development environment. https://t.co/yCxOd1AfLp #BuildingOnBelief', 'Watch the #TCSQ4 FY 2020-21 Financial Results Press Conference LIVE on April 12th on: \\n▶️ YouTube: https://t.co/zSzSO7X59I  \\n▶️ LinkedIn: https://t.co/DIrYOHagXq \\n▶️ Live coverage on @TCS https://t.co/dX7PXNCCNc', 'Tune in to the entire conversation on our partnership with B3i and how blockchain has evolved in the insurance industry.\\n\\n* Website: https://t.co/zQbUiCAYCb\\n* iTunes: https://t.co/nsrvjE56zU\\n* Spotify: https://t.co/0qJB4YQYYz\\n* Google Podcast: https://t.co/N8zmYV33KY', 'Blockchain can be a game-changer in defending your businesses from facing cyber losses. Pratap Tambe, Head of BFSI Blockchain Consulting, UKI &amp; Europe, TCS, believes the applications of SSI: Self-Sovereign Digital Identity, across business functions can strengthen cybersecurity. https://t.co/VgC8Z8g3xr', \"@Nandak1shore Hi Nandakishore, thank you for reaching out. We do not charge any fee throughout the recruitment process. We also haven't authorized any person, agency, or partner to collect any fee from candidates appearing for interviews and never will. Refer: https://t.co/Qw4GGBMA2p\", '@abilashbaskaren Congratulations, Abilash! 😊', \"As we embark on a 'brand' new journey, here's to millions of those runners who continue to build on belief and celebrate the indomitable human spirit. #BuildingOnBelief\\n(2/2)\", 'Supporting marathons around the world, #ThisRun is about people who push their bodies and minds to achieve something beyond the ordinary. Each step we take is a stride towards realising the power of our individual-belief. (1/2) https://t.co/is34a7UiyN', 'TCS wins top honors at the 2021 #ArtificialIntelligence Excellence Awards!\\n🏆Best Theory of Mind #MachineLearning Product - TCS Optunique™\\n🏆Best Self Aware Strategic Planning Product - TCS Optumera™ \\n\\nRead the full report on ⬇ https://t.co/9yDpDVPUlk', 'Through a simplified IT landscape, we teamed up with @Proximus to help them create a more flexible and scalable business, improve sales performance and product design, and achieve their goal of building the best gigabit network in Belgium-https://t.co/ay8CIUPwwS\\n#buildingonbelief https://t.co/ahISulb8TQ', 'The belief in a tech-first vision helped organizations not only cope but excel during the challenges posed by the pandemic. How can businesses accelerate digital evolution as markets normalize?\\nhttps://t.co/Y99OhCz9l2\\n\\n#BuildingOnBelief #TCSPerspectives', \"What are the ingredients that bring our new brand statement to life? Rajashree R, CMO, TCS articulates the story behind 'Building on belief' and why this will be our way of life in the future. https://t.co/0nYydrjcqy \\n@rajashreeanand @shibanigharat @CNBCTV18News\\n#BuildingOnBelief\", \"Rajashree R, CMO, TCS on the nuts and bolts of our new brand positioning statement 'Building on belief'. https://t.co/jkD5Y6wQIx\\n@rajashreeanand @theamitbapna @TheDrum\\n#BuildingOnBelief https://t.co/YqJxqtDgRB\", \"@BiIndia @pabsgill Thank you, @BiIndia, we're growing younger by the minute!😊#BuildingonBelief\", \"@VLS_Anjana Hi Anjana, thank you for reaching out. We do not charge any fee throughout the recruitment process. We also haven't authorized any person, agency, or partner to collect any fee from candidates appearing for interviews and never will. Refer: https://t.co/Qw4GGBMA2p\", \"We are excited to share our new brand positioning! Rajesh Gopinathan, CEO &amp; MD, TCS and Rajashree R, CMO, TCS share their thoughts on how 'Building on Belief' will power TCS' next decade of transformation-led growth. https://t.co/DceZ2i5ct2 \\n\\n#BuildingOnBelief @rajashreeanand\", \"Building on Belief reflects who we are as TCS and our ability to see promise in our partners' beliefs, propelling us to go further than where we are today - to convey who we aspire to be tomorrow. \\n\\nSo, what's your belief? #BuildingOnBelief (4/4)\", 'It also reflects our own belief which conveys an optimistic outlook and the limitless potential we have to create greater futures. (3/4)', 'At TCS, we go beyond helping businesses transform through technology, we help them make a meaningful difference so that their contribution is felt by the customers and communities they serve. (2/4)', 'Today, we are pleased to unveil our new brand positioning statement - Building on Belief.\\n\\nBuilding on Belief is built on the idea that every great business is born out of belief. (1/4) https://t.co/nNC1Ogotdz', \"V. Ramakrishnan, CFO, TCS, discusses how a strong CEO-CFO partnership can have an impact on #digitaltransformation. Read his #perspective - 'How the CFO Can be an Effective Partner to the CEO in Navigating the Pandemic’s Economic Storm': https://t.co/E6mvhPMGA9 https://t.co/IThSxAJdp9\", 'We are proud to partner with @MTNSouthAfrica to present Innovation Day 2021 from March 30th – April 1st.  Our panel will be sharing new ideas &amp; vision for the #telecom industry and the key innovations which will reimagine the ecosystem altogether. https://t.co/UKSNKq8zB1', 'The new #vaccines are giving us a glimpse of a world closer to #normalcy. We evaluate new screening solutions like #digital #VaccinePassports and their role in helping the world reopen: https://t.co/21cdgJycaH https://t.co/qyepYBm7lt', '@JuanAlvarezFR @TCS_Latam Congratulations on your work milestone, Juan! 😊', 'Learn more about its applications and possibilities! Here on: https://t.co/wRefg6kGBR\\n\\n#DigitalHuman #DigitalTechnology #Futuristic #Innovation #Technology #Future', \"Now imagine, if this was planned for you every day while taking into consideration finances💰, time, or changes in the plan. That's exactly what a #DigitalHumanTwin aims to do by creating a #digital model of a #citizen and connecting and predicting the best engagements for them.\", 'Did John reach the office before time?', 'Upon commuting to the diner, he takes 15 minutes to finish his breakfast.\\nHow should he proceed to the office?', 'John leaves from his house at 7:45 AM. Our objective is to help him reach work before 9 AM.\\xa0\\nBut first, he needs to stop at a diner for breakfast &amp; coffee. What should he do?', 'TCS wins 2021 Data Breakthrough Award 🏆 for TCS Optumera™, in the category Data Solution of the Year – Retail. Our AI-powered #retail optimization software suite helps offer the right assortments and pricing to gain competitive advantage. \\n\\nRead 👇https://t.co/HJLtjpHpjO', \"Newly Launched📢: TCS Connected Consumer Home solution. \\nBased on RDK, it'll enable Media &amp; Communication Service Providers (CSPs) to offer intuitive experiences using #DataAnalytics &amp; introduce new features basis user behavior in connected home ecosystem. https://t.co/nMxJ7GB3L1\", '#Intrapreneur in·tra·pre·neur (n): is someone who is\\n⬜ Daring to fail\\n⬜ Redefining the future\\n⬜ Challenging the status quo\\n☑️ All of the above\\n \\nHow can building an intrapreneurial ecosystem help tap the #innovation potential of organisations? https://t.co/mlf3kxUseF https://t.co/m1WkfvyMj9', '#5G is here but getting networks 5G ready is a massive project. We discuss the need for implementing #digital technologies to help #telecom operators transform their legacy networks, make their operations future-proof and improve #RoI, in our #whitepaper: https://t.co/vXRfxTszDC', \"In our poll earlier today, a majority of users said that ensuring the responsible use of tech requires multiple interventions. That's spot on!\\nThe need to balance #intelligence &amp; privacy in a #data driven world is indeed a collective one. More: https://t.co/iMqZWNVKKC #NTLF21 https://t.co/AYryBYBtWf\", \"Just In: We've won the 2021 @IDGWorld CIO 100 Award for our Intelligent Urban Exchange (IUX) for Workplace Resilience software. Part of our SBWS™ model, IUX helps enterprises make it safer for employees to return to work amid #COVID19.\\n\\nRead more ⬇ https://t.co/bfRrBL0PRC\", 'An expert at asset management, a trusted adviser &amp; an astute leader! Congratulations V. Ramakrishnan, CFO, TCS on winning the @FinancialXpress CFO of the Year Award 2020 in Large Enterprises.\\n\\nWatch the full ceremony on: https://t.co/n4tTBx7ZOP\\n\\n#FECFOAwards #FinancialExpress https://t.co/RSq9LAKzba', 'The digital revolution is democratizing technology faster than ever. However, with increasing concerns around privacy and sustainability, what could be the most effective way to ensure its responsible use?\\n\\nShare your views in the comments section and watch this space for more!', 'TCS has been selected by @SkanskaGroup as a strategic partner to help them achieve their ambition of becoming the most digitally advanced company in the #construction industry.\\n\\nMore on ➡ https://t.co/W9LV4fY7oJ https://t.co/Nl0lsX0XxQ', \".@EverestGroup #PEAKMatrix®: TCS has been ranked among the top 2 in 'IT Service Provider of the Year'. Of the 26 evaluations in the area, we have been positioned as a Leader in 18 reports and a Star Performer in 4.\\n\\nRead the full report on👇https://t.co/STNJcQxSQw\", 'Modern problems require modern solutions.\\n\\nSo can solutions like #Agile delivery and DevOps practices be utilized in pandemic-driven #Healthcare gaps?\\n\\nRead on to find out if these practices can help speed up delivery &amp; customer feedback: https://t.co/jaYeBFsLyX\\n\\n#Pharmaceuticals', 'Scaling new heights in our commitment to the community, we have won The Economic Times Corporate Citizen of the Year award! Milind Lakkad, CHRO, TCS talks about our win at the #ETAwards 2020, watch the full ceremony: https://t.co/aW845O9Tjh\\n\\n#CorporateCitizen #CSR @EconomicTimes https://t.co/H09zGKL0EJ', 'We’re one of the ‘India’s Coolest Workplaces’! From enabling virtual workspaces for our employees in a short span, to hosting inspirational &amp; fun events on #OneTCS, we leveraged collaboration platforms for bringing employees together. https://t.co/AtOQQUWW4D\\n\\n@BT_India @nevinjl https://t.co/XEEqTe4c2c', \"Our COO N. Ganapathy Subramaniam in his perspective 'Creating a Thriving Remote, Secure and Agile Workplace', shares how a strong foundation built on a distributed #agile approach helped enable remote work for 96% of our employees.\\n\\nhttps://t.co/I4SJKad10r\\n\\n#TCSPerspectives https://t.co/owx2gcatW1\", 'Links: https://t.co/WpqJeT3GXX | https://t.co/WblzAyM16v | https://t.co/Db1xI8qJ16 | https://t.co/0J7Nktvwxq', 'Know what has kept us in the #news 📰 last week! We launched a cyber-risk proof Vulnerability Remediation Platform, expanded our footprint in Ohio and Montreal 🏢 and over 130k executives signed up for our #leadership program - TCS Elevate.', 'Oil &amp; Gas companies today are leaning into #renewableenergy technologies. The key to success will be to drive down operational costs and fund the expansion into the new energy sources. How can big data and #advancedanalytics help accelerate this shift? https://t.co/B2WKbKA75B https://t.co/nI67wF7JP3', '\"We never thought of SBWS™ before #Covid. When suddenly the rug got pulled from under our feet, we realised that we were already sitting on what was required. We only had to scale it up.\" - Rajesh Gopinathan, CEO &amp; MD, TCS\\nMore on: https://t.co/WSLpLXneap\\n\\n(2/2)', 'Holding Together: TCS has been ranked🥈in @BT_India ‘India’s Coolest Work places’! Our internal initiatives, #OneTCS, SBWS™, #Covid19 support, among others were highly commended. \\n\\n(1/2)', 'We miss him not only for his IT prowess, but also his exceptional ability to envision a tech-enabled literate community.\\nPlease pay your respects through wishes, stories, anecdotes and artwork in the comment section below:']\n"
     ]
    }
   ],
   "source": [
    "if __name__ == '__main__':\n",
    "\n",
    "    # Here goes the twitter handle for the user\n",
    "    # whose tweets are to be extracted.\n",
    "    tweets = get_tweets(\"tcs\")\n",
    "    # bar = ' '.join(tweets)\n",
    "    # print(type(bar))\n",
    "    # print(bar)\n",
    "    # get_hashtag(\"#mondaythoughts\")\n",
    "    all_sentences = []\n",
    "\n",
    "    for word in tweets:\n",
    "        all_sentences.append(word)\n",
    "\n",
    "    print(all_sentences)\n",
    "    #df1 = df.to_string()\n",
    "\n",
    "    #df_split = df1.split()\n",
    "\n",
    "    #df_split"
   ]
  },
  {
   "cell_type": "code",
   "execution_count": 52,
   "metadata": {},
   "outputs": [
    {
     "name": "stdout",
     "output_type": "stream",
     "text": [
      "['We', 'celebrate', '20', 'years', 'of', 'partnership', 'with', '@Proximus!', 'With', 'focus', 'on', 'building', 'a', 'modern', 'gigabit', 'network', 'in', 'Belgium,', 'we', 'will', 'help', 'them', 'develop', 'next-gen', '#telecom', 'infrastructure', 'using', 'fiber', 'and', '#5G.', 'Read', 'the', 'full', 'report', 'on', '⬇', 'https://t.co/qRy3DJnzPM', 'We', 'have', 'joined', 'forces', 'with', '@Ericsson', 'to', 'build', '&amp;', 'operate', 'its', 'world-class', '#cloud-based', 'R&amp;D', 'environment.', 'Further,', 'we', 'are', 'also', 'launching', 'a', '24x7', 'command', 'center', 'at', 'Hyderabad,', 'India', 'to', 'help', 'accelerate', 'their', 'R&amp;D', '&amp;', 'product', 'development', 'environment.', 'https://t.co/yCxOd1AfLp', '#BuildingOnBelief', 'Watch', 'the', '#TCSQ4', 'FY', '2020-21', 'Financial', 'Results', 'Press', 'Conference', 'LIVE', 'on', 'April', '12th', 'on:', '▶️', 'YouTube:', 'https://t.co/zSzSO7X59I', '▶️', 'LinkedIn:', 'https://t.co/DIrYOHagXq', '▶️', 'Live', 'coverage', 'on', '@TCS', 'https://t.co/dX7PXNCCNc', 'Tune', 'in', 'to', 'the', 'entire', 'conversation', 'on', 'our', 'partnership', 'with', 'B3i', 'and', 'how', 'blockchain', 'has', 'evolved', 'in', 'the', 'insurance', 'industry.', '*', 'Website:', 'https://t.co/zQbUiCAYCb', '*', 'iTunes:', 'https://t.co/nsrvjE56zU', '*', 'Spotify:', 'https://t.co/0qJB4YQYYz', '*', 'Google', 'Podcast:', 'https://t.co/N8zmYV33KY', 'Blockchain', 'can', 'be', 'a', 'game-changer', 'in', 'defending', 'your', 'businesses', 'from', 'facing', 'cyber', 'losses.', 'Pratap', 'Tambe,', 'Head', 'of', 'BFSI', 'Blockchain', 'Consulting,', 'UKI', '&amp;', 'Europe,', 'TCS,', 'believes', 'the', 'applications', 'of', 'SSI:', 'Self-Sovereign', 'Digital', 'Identity,', 'across', 'business', 'functions', 'can', 'strengthen', 'cybersecurity.', 'https://t.co/VgC8Z8g3xr', '@Nandak1shore', 'Hi', 'Nandakishore,', 'thank', 'you', 'for', 'reaching', 'out.', 'We', 'do', 'not', 'charge', 'any', 'fee', 'throughout', 'the', 'recruitment', 'process.', 'We', 'also', \"haven't\", 'authorized', 'any', 'person,', 'agency,', 'or', 'partner', 'to', 'collect', 'any', 'fee', 'from', 'candidates', 'appearing', 'for', 'interviews', 'and', 'never', 'will.', 'Refer:', 'https://t.co/Qw4GGBMA2p', '@abilashbaskaren', 'Congratulations,', 'Abilash!', '😊', 'As', 'we', 'embark', 'on', 'a', \"'brand'\", 'new', 'journey,', \"here's\", 'to', 'millions', 'of', 'those', 'runners', 'who', 'continue', 'to', 'build', 'on', 'belief', 'and', 'celebrate', 'the', 'indomitable', 'human', 'spirit.', '#BuildingOnBelief', '(2/2)', 'Supporting', 'marathons', 'around', 'the', 'world,', '#ThisRun', 'is', 'about', 'people', 'who', 'push', 'their', 'bodies', 'and', 'minds', 'to', 'achieve', 'something', 'beyond', 'the', 'ordinary.', 'Each', 'step', 'we', 'take', 'is', 'a', 'stride', 'towards', 'realising', 'the', 'power', 'of', 'our', 'individual-belief.', '(1/2)', 'https://t.co/is34a7UiyN', 'TCS', 'wins', 'top', 'honors', 'at', 'the', '2021', '#ArtificialIntelligence', 'Excellence', 'Awards!', '🏆Best', 'Theory', 'of', 'Mind', '#MachineLearning', 'Product', '-', 'TCS', 'Optunique™', '🏆Best', 'Self', 'Aware', 'Strategic', 'Planning', 'Product', '-', 'TCS', 'Optumera™', 'Read', 'the', 'full', 'report', 'on', '⬇', 'https://t.co/9yDpDVPUlk', 'Through', 'a', 'simplified', 'IT', 'landscape,', 'we', 'teamed', 'up', 'with', '@Proximus', 'to', 'help', 'them', 'create', 'a', 'more', 'flexible', 'and', 'scalable', 'business,', 'improve', 'sales', 'performance', 'and', 'product', 'design,', 'and', 'achieve', 'their', 'goal', 'of', 'building', 'the', 'best', 'gigabit', 'network', 'in', 'Belgium-https://t.co/ay8CIUPwwS', '#buildingonbelief', 'https://t.co/ahISulb8TQ', 'The', 'belief', 'in', 'a', 'tech-first', 'vision', 'helped', 'organizations', 'not', 'only', 'cope', 'but', 'excel', 'during', 'the', 'challenges', 'posed', 'by', 'the', 'pandemic.', 'How', 'can', 'businesses', 'accelerate', 'digital', 'evolution', 'as', 'markets', 'normalize?', 'https://t.co/Y99OhCz9l2', '#BuildingOnBelief', '#TCSPerspectives', 'What', 'are', 'the', 'ingredients', 'that', 'bring', 'our', 'new', 'brand', 'statement', 'to', 'life?', 'Rajashree', 'R,', 'CMO,', 'TCS', 'articulates', 'the', 'story', 'behind', \"'Building\", 'on', \"belief'\", 'and', 'why', 'this', 'will', 'be', 'our', 'way', 'of', 'life', 'in', 'the', 'future.', 'https://t.co/0nYydrjcqy', '@rajashreeanand', '@shibanigharat', '@CNBCTV18News', '#BuildingOnBelief', 'Rajashree', 'R,', 'CMO,', 'TCS', 'on', 'the', 'nuts', 'and', 'bolts', 'of', 'our', 'new', 'brand', 'positioning', 'statement', \"'Building\", 'on', \"belief'.\", 'https://t.co/jkD5Y6wQIx', '@rajashreeanand', '@theamitbapna', '@TheDrum', '#BuildingOnBelief', 'https://t.co/YqJxqtDgRB', '@BiIndia', '@pabsgill', 'Thank', 'you,', '@BiIndia,', \"we're\", 'growing', 'younger', 'by', 'the', 'minute!😊#BuildingonBelief', '@VLS_Anjana', 'Hi', 'Anjana,', 'thank', 'you', 'for', 'reaching', 'out.', 'We', 'do', 'not', 'charge', 'any', 'fee', 'throughout', 'the', 'recruitment', 'process.', 'We', 'also', \"haven't\", 'authorized', 'any', 'person,', 'agency,', 'or', 'partner', 'to', 'collect', 'any', 'fee', 'from', 'candidates', 'appearing', 'for', 'interviews', 'and', 'never', 'will.', 'Refer:', 'https://t.co/Qw4GGBMA2p', 'We', 'are', 'excited', 'to', 'share', 'our', 'new', 'brand', 'positioning!', 'Rajesh', 'Gopinathan,', 'CEO', '&amp;', 'MD,', 'TCS', 'and', 'Rajashree', 'R,', 'CMO,', 'TCS', 'share', 'their', 'thoughts', 'on', 'how', \"'Building\", 'on', \"Belief'\", 'will', 'power', \"TCS'\", 'next', 'decade', 'of', 'transformation-led', 'growth.', 'https://t.co/DceZ2i5ct2', '#BuildingOnBelief', '@rajashreeanand', 'Building', 'on', 'Belief', 'reflects', 'who', 'we', 'are', 'as', 'TCS', 'and', 'our', 'ability', 'to', 'see', 'promise', 'in', 'our', \"partners'\", 'beliefs,', 'propelling', 'us', 'to', 'go', 'further', 'than', 'where', 'we', 'are', 'today', '-', 'to', 'convey', 'who', 'we', 'aspire', 'to', 'be', 'tomorrow.', 'So,', \"what's\", 'your', 'belief?', '#BuildingOnBelief', '(4/4)', 'It', 'also', 'reflects', 'our', 'own', 'belief', 'which', 'conveys', 'an', 'optimistic', 'outlook', 'and', 'the', 'limitless', 'potential', 'we', 'have', 'to', 'create', 'greater', 'futures.', '(3/4)', 'At', 'TCS,', 'we', 'go', 'beyond', 'helping', 'businesses', 'transform', 'through', 'technology,', 'we', 'help', 'them', 'make', 'a', 'meaningful', 'difference', 'so', 'that', 'their', 'contribution', 'is', 'felt', 'by', 'the', 'customers', 'and', 'communities', 'they', 'serve.', '(2/4)', 'Today,', 'we', 'are', 'pleased', 'to', 'unveil', 'our', 'new', 'brand', 'positioning', 'statement', '-', 'Building', 'on', 'Belief.', 'Building', 'on', 'Belief', 'is', 'built', 'on', 'the', 'idea', 'that', 'every', 'great', 'business', 'is', 'born', 'out', 'of', 'belief.', '(1/4)', 'https://t.co/nNC1Ogotdz', 'V.', 'Ramakrishnan,', 'CFO,', 'TCS,', 'discusses', 'how', 'a', 'strong', 'CEO-CFO', 'partnership', 'can', 'have', 'an', 'impact', 'on', '#digitaltransformation.', 'Read', 'his', '#perspective', '-', \"'How\", 'the', 'CFO', 'Can', 'be', 'an', 'Effective', 'Partner', 'to', 'the', 'CEO', 'in', 'Navigating', 'the', 'Pandemic’s', 'Economic', \"Storm':\", 'https://t.co/E6mvhPMGA9', 'https://t.co/IThSxAJdp9', 'We', 'are', 'proud', 'to', 'partner', 'with', '@MTNSouthAfrica', 'to', 'present', 'Innovation', 'Day', '2021', 'from', 'March', '30th', '–', 'April', '1st.', 'Our', 'panel', 'will', 'be', 'sharing', 'new', 'ideas', '&amp;', 'vision', 'for', 'the', '#telecom', 'industry', 'and', 'the', 'key', 'innovations', 'which', 'will', 'reimagine', 'the', 'ecosystem', 'altogether.', 'https://t.co/UKSNKq8zB1', 'The', 'new', '#vaccines', 'are', 'giving', 'us', 'a', 'glimpse', 'of', 'a', 'world', 'closer', 'to', '#normalcy.', 'We', 'evaluate', 'new', 'screening', 'solutions', 'like', '#digital', '#VaccinePassports', 'and', 'their', 'role', 'in', 'helping', 'the', 'world', 'reopen:', 'https://t.co/21cdgJycaH', 'https://t.co/qyepYBm7lt', '@JuanAlvarezFR', '@TCS_Latam', 'Congratulations', 'on', 'your', 'work', 'milestone,', 'Juan!', '😊', 'Learn', 'more', 'about', 'its', 'applications', 'and', 'possibilities!', 'Here', 'on:', 'https://t.co/wRefg6kGBR', '#DigitalHuman', '#DigitalTechnology', '#Futuristic', '#Innovation', '#Technology', '#Future', 'Now', 'imagine,', 'if', 'this', 'was', 'planned', 'for', 'you', 'every', 'day', 'while', 'taking', 'into', 'consideration', 'finances💰,', 'time,', 'or', 'changes', 'in', 'the', 'plan.', \"That's\", 'exactly', 'what', 'a', '#DigitalHumanTwin', 'aims', 'to', 'do', 'by', 'creating', 'a', '#digital', 'model', 'of', 'a', '#citizen', 'and', 'connecting', 'and', 'predicting', 'the', 'best', 'engagements', 'for', 'them.', 'Did', 'John', 'reach', 'the', 'office', 'before', 'time?', 'Upon', 'commuting', 'to', 'the', 'diner,', 'he', 'takes', '15', 'minutes', 'to', 'finish', 'his', 'breakfast.', 'How', 'should', 'he', 'proceed', 'to', 'the', 'office?', 'John', 'leaves', 'from', 'his', 'house', 'at', '7:45', 'AM.', 'Our', 'objective', 'is', 'to', 'help', 'him', 'reach', 'work', 'before', '9', 'AM.', 'But', 'first,', 'he', 'needs', 'to', 'stop', 'at', 'a', 'diner', 'for', 'breakfast', '&amp;', 'coffee.', 'What', 'should', 'he', 'do?', 'TCS', 'wins', '2021', 'Data', 'Breakthrough', 'Award', '🏆', 'for', 'TCS', 'Optumera™,', 'in', 'the', 'category', 'Data', 'Solution', 'of', 'the', 'Year', '–', 'Retail.', 'Our', 'AI-powered', '#retail', 'optimization', 'software', 'suite', 'helps', 'offer', 'the', 'right', 'assortments', 'and', 'pricing', 'to', 'gain', 'competitive', 'advantage.', 'Read', '👇https://t.co/HJLtjpHpjO', 'Newly', 'Launched📢:', 'TCS', 'Connected', 'Consumer', 'Home', 'solution.', 'Based', 'on', 'RDK,', \"it'll\", 'enable', 'Media', '&amp;', 'Communication', 'Service', 'Providers', '(CSPs)', 'to', 'offer', 'intuitive', 'experiences', 'using', '#DataAnalytics', '&amp;', 'introduce', 'new', 'features', 'basis', 'user', 'behavior', 'in', 'connected', 'home', 'ecosystem.', 'https://t.co/nMxJ7GB3L1', '#Intrapreneur', 'in·tra·pre·neur', '(n):', 'is', 'someone', 'who', 'is', '⬜', 'Daring', 'to', 'fail', '⬜', 'Redefining', 'the', 'future', '⬜', 'Challenging', 'the', 'status', 'quo', '☑️', 'All', 'of', 'the', 'above', 'How', 'can', 'building', 'an', 'intrapreneurial', 'ecosystem', 'help', 'tap', 'the', '#innovation', 'potential', 'of', 'organisations?', 'https://t.co/mlf3kxUseF', 'https://t.co/m1WkfvyMj9', '#5G', 'is', 'here', 'but', 'getting', 'networks', '5G', 'ready', 'is', 'a', 'massive', 'project.', 'We', 'discuss', 'the', 'need', 'for', 'implementing', '#digital', 'technologies', 'to', 'help', '#telecom', 'operators', 'transform', 'their', 'legacy', 'networks,', 'make', 'their', 'operations', 'future-proof', 'and', 'improve', '#RoI,', 'in', 'our', '#whitepaper:', 'https://t.co/vXRfxTszDC', 'In', 'our', 'poll', 'earlier', 'today,', 'a', 'majority', 'of', 'users', 'said', 'that', 'ensuring', 'the', 'responsible', 'use', 'of', 'tech', 'requires', 'multiple', 'interventions.', \"That's\", 'spot', 'on!', 'The', 'need', 'to', 'balance', '#intelligence', '&amp;', 'privacy', 'in', 'a', '#data', 'driven', 'world', 'is', 'indeed', 'a', 'collective', 'one.', 'More:', 'https://t.co/iMqZWNVKKC', '#NTLF21', 'https://t.co/AYryBYBtWf', 'Just', 'In:', \"We've\", 'won', 'the', '2021', '@IDGWorld', 'CIO', '100', 'Award', 'for', 'our', 'Intelligent', 'Urban', 'Exchange', '(IUX)', 'for', 'Workplace', 'Resilience', 'software.', 'Part', 'of', 'our', 'SBWS™', 'model,', 'IUX', 'helps', 'enterprises', 'make', 'it', 'safer', 'for', 'employees', 'to', 'return', 'to', 'work', 'amid', '#COVID19.', 'Read', 'more', '⬇', 'https://t.co/bfRrBL0PRC', 'An', 'expert', 'at', 'asset', 'management,', 'a', 'trusted', 'adviser', '&amp;', 'an', 'astute', 'leader!', 'Congratulations', 'V.', 'Ramakrishnan,', 'CFO,', 'TCS', 'on', 'winning', 'the', '@FinancialXpress', 'CFO', 'of', 'the', 'Year', 'Award', '2020', 'in', 'Large', 'Enterprises.', 'Watch', 'the', 'full', 'ceremony', 'on:', 'https://t.co/n4tTBx7ZOP', '#FECFOAwards', '#FinancialExpress', 'https://t.co/RSq9LAKzba', 'The', 'digital', 'revolution', 'is', 'democratizing', 'technology', 'faster', 'than', 'ever.', 'However,', 'with', 'increasing', 'concerns', 'around', 'privacy', 'and', 'sustainability,', 'what', 'could', 'be', 'the', 'most', 'effective', 'way', 'to', 'ensure', 'its', 'responsible', 'use?', 'Share', 'your', 'views', 'in', 'the', 'comments', 'section', 'and', 'watch', 'this', 'space', 'for', 'more!', 'TCS', 'has', 'been', 'selected', 'by', '@SkanskaGroup', 'as', 'a', 'strategic', 'partner', 'to', 'help', 'them', 'achieve', 'their', 'ambition', 'of', 'becoming', 'the', 'most', 'digitally', 'advanced', 'company', 'in', 'the', '#construction', 'industry.', 'More', 'on', '➡', 'https://t.co/W9LV4fY7oJ', 'https://t.co/Nl0lsX0XxQ', '.@EverestGroup', '#PEAKMatrix®:', 'TCS', 'has', 'been', 'ranked', 'among', 'the', 'top', '2', 'in', \"'IT\", 'Service', 'Provider', 'of', 'the', \"Year'.\", 'Of', 'the', '26', 'evaluations', 'in', 'the', 'area,', 'we', 'have', 'been', 'positioned', 'as', 'a', 'Leader', 'in', '18', 'reports', 'and', 'a', 'Star', 'Performer', 'in', '4.', 'Read', 'the', 'full', 'report', 'on👇https://t.co/STNJcQxSQw', 'Modern', 'problems', 'require', 'modern', 'solutions.', 'So', 'can', 'solutions', 'like', '#Agile', 'delivery', 'and', 'DevOps', 'practices', 'be', 'utilized', 'in', 'pandemic-driven', '#Healthcare', 'gaps?', 'Read', 'on', 'to', 'find', 'out', 'if', 'these', 'practices', 'can', 'help', 'speed', 'up', 'delivery', '&amp;', 'customer', 'feedback:', 'https://t.co/jaYeBFsLyX', '#Pharmaceuticals', 'Scaling', 'new', 'heights', 'in', 'our', 'commitment', 'to', 'the', 'community,', 'we', 'have', 'won', 'The', 'Economic', 'Times', 'Corporate', 'Citizen', 'of', 'the', 'Year', 'award!', 'Milind', 'Lakkad,', 'CHRO,', 'TCS', 'talks', 'about', 'our', 'win', 'at', 'the', '#ETAwards', '2020,', 'watch', 'the', 'full', 'ceremony:', 'https://t.co/aW845O9Tjh', '#CorporateCitizen', '#CSR', '@EconomicTimes', 'https://t.co/H09zGKL0EJ', 'We’re', 'one', 'of', 'the', '‘India’s', 'Coolest', 'Workplaces’!', 'From', 'enabling', 'virtual', 'workspaces', 'for', 'our', 'employees', 'in', 'a', 'short', 'span,', 'to', 'hosting', 'inspirational', '&amp;', 'fun', 'events', 'on', '#OneTCS,', 'we', 'leveraged', 'collaboration', 'platforms', 'for', 'bringing', 'employees', 'together.', 'https://t.co/AtOQQUWW4D', '@BT_India', '@nevinjl', 'https://t.co/XEEqTe4c2c', 'Our', 'COO', 'N.', 'Ganapathy', 'Subramaniam', 'in', 'his', 'perspective', \"'Creating\", 'a', 'Thriving', 'Remote,', 'Secure', 'and', 'Agile', \"Workplace',\", 'shares', 'how', 'a', 'strong', 'foundation', 'built', 'on', 'a', 'distributed', '#agile', 'approach', 'helped', 'enable', 'remote', 'work', 'for', '96%', 'of', 'our', 'employees.', 'https://t.co/I4SJKad10r', '#TCSPerspectives', 'https://t.co/owx2gcatW1', 'Links:', 'https://t.co/WpqJeT3GXX', '|', 'https://t.co/WblzAyM16v', '|', 'https://t.co/Db1xI8qJ16', '|', 'https://t.co/0J7Nktvwxq', 'Know', 'what', 'has', 'kept', 'us', 'in', 'the', '#news', '📰', 'last', 'week!', 'We', 'launched', 'a', 'cyber-risk', 'proof', 'Vulnerability', 'Remediation', 'Platform,', 'expanded', 'our', 'footprint', 'in', 'Ohio', 'and', 'Montreal', '🏢', 'and', 'over', '130k', 'executives', 'signed', 'up', 'for', 'our', '#leadership', 'program', '-', 'TCS', 'Elevate.', 'Oil', '&amp;', 'Gas', 'companies', 'today', 'are', 'leaning', 'into', '#renewableenergy', 'technologies.', 'The', 'key', 'to', 'success', 'will', 'be', 'to', 'drive', 'down', 'operational', 'costs', 'and', 'fund', 'the', 'expansion', 'into', 'the', 'new', 'energy', 'sources.', 'How', 'can', 'big', 'data', 'and', '#advancedanalytics', 'help', 'accelerate', 'this', 'shift?', 'https://t.co/B2WKbKA75B', 'https://t.co/nI67wF7JP3', '\"We', 'never', 'thought', 'of', 'SBWS™', 'before', '#Covid.', 'When', 'suddenly', 'the', 'rug', 'got', 'pulled', 'from', 'under', 'our', 'feet,', 'we', 'realised', 'that', 'we', 'were', 'already', 'sitting', 'on', 'what', 'was', 'required.', 'We', 'only', 'had', 'to', 'scale', 'it', 'up.\"', '-', 'Rajesh', 'Gopinathan,', 'CEO', '&amp;', 'MD,', 'TCS', 'More', 'on:', 'https://t.co/WSLpLXneap', '(2/2)', 'Holding', 'Together:', 'TCS', 'has', 'been', 'ranked🥈in', '@BT_India', '‘India’s', 'Coolest', 'Work', 'places’!', 'Our', 'internal', 'initiatives,', '#OneTCS,', 'SBWS™,', '#Covid19', 'support,', 'among', 'others', 'were', 'highly', 'commended.', '(1/2)', 'We', 'miss', 'him', 'not', 'only', 'for', 'his', 'IT', 'prowess,', 'but', 'also', 'his', 'exceptional', 'ability', 'to', 'envision', 'a', 'tech-enabled', 'literate', 'community.', 'Please', 'pay', 'your', 'respects', 'through', 'wishes,', 'stories,', 'anecdotes', 'and', 'artwork', 'in', 'the', 'comment', 'section', 'below:']\n"
     ]
    }
   ],
   "source": [
    "    lines = list()\n",
    "    for line in all_sentences:    \n",
    "        words = line.split()\n",
    "        for w in words: \n",
    "            lines.append(w)\n",
    "    print(lines)"
   ]
  },
  {
   "cell_type": "code",
   "execution_count": 53,
   "metadata": {},
   "outputs": [
    {
     "name": "stdout",
     "output_type": "stream",
     "text": [
      "['we', 'celebr', '20', 'year', 'of', 'partnership', 'with', 'proximus', 'with', 'focus', 'on', 'build', 'a', 'modern', 'gigabit', 'network', 'in', 'belgium', 'we', 'will', 'help', 'them', 'develop', 'nextgen', 'telecom', 'infrastructur', 'use', 'fiber', 'and', '5g', 'read', 'the', 'full', 'report', 'on', 'we', 'have', 'join', 'forc', 'with', 'ericsson', 'to', 'build', 'amp', 'oper', 'it', 'worldclass', 'cloudbas', 'rampd', 'environ', 'further', 'we', 'are', 'also', 'launch', 'a', '24x7', 'command', 'center', 'at', 'hyderabad', 'india', 'to', 'help', 'acceler', 'their', 'rampd', 'amp', 'product', 'develop', 'environ', 'buildingonbelief', 'watch', 'the', 'tcsq4', 'fy', '202021', 'financi', 'result', 'press', 'confer', 'live', 'on', 'april', '12th', 'on', 'youtub', 'linkedin', 'live', 'coverag', 'on', 'tcs', 'tune', 'in', 'to', 'the', 'entir', 'convers', 'on', 'our', 'partnership', 'with', 'b3i', 'and', 'how', 'blockchain', 'has', 'evolv', 'in', 'the', 'insur', 'industri', 'websit', 'itun', 'spotifi', 'googl', 'podcast', 'blockchain', 'can', 'be', 'a', 'gamechang', 'in', 'defend', 'your', 'busi', 'from', 'face', 'cyber', 'loss', 'pratap', 'tamb', 'head', 'of', 'bfsi', 'blockchain', 'consult', 'uki', 'amp', 'europ', 'tcs', 'believ', 'the', 'applic', 'of', 'ssi', 'selfsovereign', 'digit', 'ident', 'across', 'busi', 'function', 'can', 'strengthen', 'cybersecur', 'nandak1shor', 'hi', 'nandakishor', 'thank', 'you', 'for', 'reach', 'out', 'we', 'do', 'not', 'charg', 'ani', 'fee', 'throughout', 'the', 'recruit', 'process', 'we', 'also', 'havent', 'author', 'ani', 'person', 'agenc', 'or', 'partner', 'to', 'collect', 'ani', 'fee', 'from', 'candid', 'appear', 'for', 'interview', 'and', 'never', 'will', 'refer', 'abilashbaskaren', 'congratul', 'abilash', 'as', 'we', 'embark', 'on', 'a', 'brand', 'new', 'journey', 'here', 'to', 'million', 'of', 'those', 'runner', 'who', 'continu', 'to', 'build', 'on', 'belief', 'and', 'celebr', 'the', 'indomit', 'human', 'spirit', 'buildingonbelief', '22', 'support', 'marathon', 'around', 'the', 'world', 'thisrun', 'is', 'about', 'peopl', 'who', 'push', 'their', 'bodi', 'and', 'mind', 'to', 'achiev', 'someth', 'beyond', 'the', 'ordinari', 'each', 'step', 'we', 'take', 'is', 'a', 'stride', 'toward', 'realis', 'the', 'power', 'of', 'our', 'individualbelief', '12', 'tcs', 'win', 'top', 'honor', 'at', 'the', '2021', 'artificialintellig', 'excel', 'award', 'best', 'theori', 'of', 'mind', 'machinelearn', 'product', 'tcs', 'optuniqu', 'best', 'self', 'awar', 'strateg', 'plan', 'product', 'tcs', 'optumera', 'read', 'the', 'full', 'report', 'on', 'through', 'a', 'simplifi', 'it', 'landscap', 'we', 'team', 'up', 'with', 'proximus', 'to', 'help', 'them', 'creat', 'a', 'more', 'flexibl', 'and', 'scalabl', 'busi', 'improv', 'sale', 'perform', 'and', 'product', 'design', 'and', 'achiev', 'their', 'goal', 'of', 'build', 'the', 'best', 'gigabit', 'network', 'in', 'belgium', 'buildingonbelief', 'the', 'belief', 'in', 'a', 'techfirst', 'vision', 'help', 'organ', 'not', 'onli', 'cope', 'but', 'excel', 'dure', 'the', 'challeng', 'pose', 'by', 'the', 'pandem', 'how', 'can', 'busi', 'acceler', 'digit', 'evolut', 'as', 'market', 'normal', 'buildingonbelief', 'tcsperspect', 'what', 'are', 'the', 'ingredi', 'that', 'bring', 'our', 'new', 'brand', 'statement', 'to', 'life', 'rajashre', 'r', 'cmo', 'tcs', 'articul', 'the', 'stori', 'behind', 'build', 'on', 'belief', 'and', 'whi', 'this', 'will', 'be', 'our', 'way', 'of', 'life', 'in', 'the', 'futur', 'rajashreeanand', 'shibanigharat', 'cnbctv18new', 'buildingonbelief', 'rajashre', 'r', 'cmo', 'tcs', 'on', 'the', 'nut', 'and', 'bolt', 'of', 'our', 'new', 'brand', 'posit', 'statement', 'build', 'on', 'belief', 'rajashreeanand', 'theamitbapna', 'thedrum', 'buildingonbelief', 'biindia', 'pabsgil', 'thank', 'you', 'biindia', 'were', 'grow', 'younger', 'by', 'the', 'minutebuildingonbelief', 'vlsanjana', 'hi', 'anjana', 'thank', 'you', 'for', 'reach', 'out', 'we', 'do', 'not', 'charg', 'ani', 'fee', 'throughout', 'the', 'recruit', 'process', 'we', 'also', 'havent', 'author', 'ani', 'person', 'agenc', 'or', 'partner', 'to', 'collect', 'ani', 'fee', 'from', 'candid', 'appear', 'for', 'interview', 'and', 'never', 'will', 'refer', 'we', 'are', 'excit', 'to', 'share', 'our', 'new', 'brand', 'posit', 'rajesh', 'gopinathan', 'ceo', 'amp', 'md', 'tcs', 'and', 'rajashre', 'r', 'cmo', 'tcs', 'share', 'their', 'thought', 'on', 'how', 'build', 'on', 'belief', 'will', 'power', 'tcs', 'next', 'decad', 'of', 'transformationl', 'growth', 'buildingonbelief', 'rajashreeanand', 'build', 'on', 'belief', 'reflect', 'who', 'we', 'are', 'as', 'tcs', 'and', 'our', 'abil', 'to', 'see', 'promis', 'in', 'our', 'partner', 'belief', 'propel', 'us', 'to', 'go', 'further', 'than', 'where', 'we', 'are', 'today', 'to', 'convey', 'who', 'we', 'aspir', 'to', 'be', 'tomorrow', 'so', 'what', 'your', 'belief', 'buildingonbelief', '44', 'it', 'also', 'reflect', 'our', 'own', 'belief', 'which', 'convey', 'an', 'optimist', 'outlook', 'and', 'the', 'limitless', 'potenti', 'we', 'have', 'to', 'creat', 'greater', 'futur', '34', 'at', 'tcs', 'we', 'go', 'beyond', 'help', 'busi', 'transform', 'through', 'technolog', 'we', 'help', 'them', 'make', 'a', 'meaning', 'differ', 'so', 'that', 'their', 'contribut', 'is', 'felt', 'by', 'the', 'custom', 'and', 'communiti', 'they', 'serv', '24', 'today', 'we', 'are', 'pleas', 'to', 'unveil', 'our', 'new', 'brand', 'posit', 'statement', 'build', 'on', 'belief', 'build', 'on', 'belief', 'is', 'built', 'on', 'the', 'idea', 'that', 'everi', 'great', 'busi', 'is', 'born', 'out', 'of', 'belief', '14', 'v', 'ramakrishnan', 'cfo', 'tcs', 'discuss', 'how', 'a', 'strong', 'ceocfo', 'partnership', 'can', 'have', 'an', 'impact', 'on', 'digitaltransform', 'read', 'his', 'perspect', 'how', 'the', 'cfo', 'can', 'be', 'an', 'effect', 'partner', 'to', 'the', 'ceo', 'in', 'navig', 'the', 'pandem', 'econom', 'storm', 'we', 'are', 'proud', 'to', 'partner', 'with', 'mtnsouthafrica', 'to', 'present', 'innov', 'day', '2021', 'from', 'march', '30th', 'april', '1st', 'our', 'panel', 'will', 'be', 'share', 'new', 'idea', 'amp', 'vision', 'for', 'the', 'telecom', 'industri', 'and', 'the', 'key', 'innov', 'which', 'will', 'reimagin', 'the', 'ecosystem', 'altogeth', 'the', 'new', 'vaccin', 'are', 'give', 'us', 'a', 'glimps', 'of', 'a', 'world', 'closer', 'to', 'normalci', 'we', 'evalu', 'new', 'screen', 'solut', 'like', 'digit', 'vaccinepassport', 'and', 'their', 'role', 'in', 'help', 'the', 'world', 'reopen', 'juanalvarezfr', 'tcslatam', 'congratul', 'on', 'your', 'work', 'mileston', 'juan', 'learn', 'more', 'about', 'it', 'applic', 'and', 'possibl', 'here', 'on', 'digitalhuman', 'digitaltechnolog', 'futurist', 'innov', 'technolog', 'futur', 'now', 'imagin', 'if', 'this', 'was', 'plan', 'for', 'you', 'everi', 'day', 'while', 'take', 'into', 'consider', 'financ', 'time', 'or', 'chang', 'in', 'the', 'plan', 'that', 'exact', 'what', 'a', 'digitalhumantwin', 'aim', 'to', 'do', 'by', 'creat', 'a', 'digit', 'model', 'of', 'a', 'citizen', 'and', 'connect', 'and', 'predict', 'the', 'best', 'engag', 'for', 'them', 'did', 'john', 'reach', 'the', 'offic', 'befor', 'time', 'upon', 'commut', 'to', 'the', 'diner', 'he', 'take', '15', 'minut', 'to', 'finish', 'his', 'breakfast', 'how', 'should', 'he', 'proceed', 'to', 'the', 'offic', 'john', 'leav', 'from', 'his', 'hous', 'at', '745', 'am', 'our', 'object', 'is', 'to', 'help', 'him', 'reach', 'work', 'befor', '9', 'am', 'but', 'first', 'he', 'need', 'to', 'stop', 'at', 'a', 'diner', 'for', 'breakfast', 'amp', 'coffe', 'what', 'should', 'he', 'do', 'tcs', 'win', '2021', 'data', 'breakthrough', 'award', 'for', 'tcs', 'optumera', 'in', 'the', 'categori', 'data', 'solut', 'of', 'the', 'year', 'retail', 'our', 'aipow', 'retail', 'optim', 'softwar', 'suit', 'help', 'offer', 'the', 'right', 'assort', 'and', 'price', 'to', 'gain', 'competit', 'advantag', 'read', 'newli', 'launch', 'tcs', 'connect', 'consum', 'home', 'solut', 'base', 'on', 'rdk', 'itll', 'enabl', 'media', 'amp', 'communic', 'servic', 'provid', 'csps', 'to', 'offer', 'intuit', 'experi', 'use', 'dataanalyt', 'amp', 'introduc', 'new', 'featur', 'basi', 'user', 'behavior', 'in', 'connect', 'home', 'ecosystem', 'intrapreneur', 'intrapreneur', 'n', 'is', 'someon', 'who', 'is', 'dare', 'to', 'fail', 'redefin', 'the', 'futur', 'challeng', 'the', 'status', 'quo', 'all', 'of', 'the', 'abov', 'how', 'can', 'build', 'an', 'intrapreneuri', 'ecosystem', 'help', 'tap', 'the', 'innov', 'potenti', 'of', 'organis', '5g', 'is', 'here', 'but', 'get', 'network', '5g', 'readi', 'is', 'a', 'massiv', 'project', 'we', 'discuss', 'the', 'need', 'for', 'implement', 'digit', 'technolog', 'to', 'help', 'telecom', 'oper', 'transform', 'their', 'legaci', 'network', 'make', 'their', 'oper', 'futureproof', 'and', 'improv', 'roi', 'in', 'our', 'whitepap', 'in', 'our', 'poll', 'earlier', 'today', 'a', 'major', 'of', 'user', 'said', 'that', 'ensur', 'the', 'respons', 'use', 'of', 'tech', 'requir', 'multipl', 'intervent', 'that', 'spot', 'on', 'the', 'need', 'to', 'balanc', 'intellig', 'amp', 'privaci', 'in', 'a', 'data', 'driven', 'world', 'is', 'inde', 'a', 'collect', 'one', 'more', 'ntlf21', 'just', 'in', 'weve', 'won', 'the', '2021', 'idgworld', 'cio', '100', 'award', 'for', 'our', 'intellig', 'urban', 'exchang', 'iux', 'for', 'workplac', 'resili', 'softwar', 'part', 'of', 'our', 'sbws', 'model', 'iux', 'help', 'enterpris', 'make', 'it', 'safer', 'for', 'employe', 'to', 'return', 'to', 'work', 'amid', 'covid19', 'read', 'more', 'an', 'expert', 'at', 'asset', 'manag', 'a', 'trust', 'advis', 'amp', 'an', 'astut', 'leader', 'congratul', 'v', 'ramakrishnan', 'cfo', 'tcs', 'on', 'win', 'the', 'financialxpress', 'cfo', 'of', 'the', 'year', 'award', '2020', 'in', 'larg', 'enterpris', 'watch', 'the', 'full', 'ceremoni', 'on', 'fecfoaward', 'financialexpress', 'the', 'digit', 'revolut', 'is', 'democrat', 'technolog', 'faster', 'than', 'ever', 'howev', 'with', 'increas', 'concern', 'around', 'privaci', 'and', 'sustain', 'what', 'could', 'be', 'the', 'most', 'effect', 'way', 'to', 'ensur', 'it', 'respons', 'use', 'share', 'your', 'view', 'in', 'the', 'comment', 'section', 'and', 'watch', 'this', 'space', 'for', 'more', 'tcs', 'has', 'been', 'select', 'by', 'skanskagroup', 'as', 'a', 'strateg', 'partner', 'to', 'help', 'them', 'achiev', 'their', 'ambit', 'of', 'becom', 'the', 'most', 'digit', 'advanc', 'compani', 'in', 'the', 'construct', 'industri', 'more', 'on', 'everestgroup', 'peakmatrix', 'tcs', 'has', 'been', 'rank', 'among', 'the', 'top', '2', 'in', 'it', 'servic', 'provid', 'of', 'the', 'year', 'of', 'the', '26', 'evalu', 'in', 'the', 'area', 'we', 'have', 'been', 'posit', 'as', 'a', 'leader', 'in', '18', 'report', 'and', 'a', 'star', 'perform', 'in', '4', 'read', 'the', 'full', 'report', 'on', 'modern', 'problem', 'requir', 'modern', 'solut', 'so', 'can', 'solut', 'like', 'agil', 'deliveri', 'and', 'devop', 'practic', 'be', 'util', 'in', 'pandemicdriven', 'healthcar', 'gap', 'read', 'on', 'to', 'find', 'out', 'if', 'these', 'practic', 'can', 'help', 'speed', 'up', 'deliveri', 'amp', 'custom', 'feedback', 'pharmaceut', 'scale', 'new', 'height', 'in', 'our', 'commit', 'to', 'the', 'communiti', 'we', 'have', 'won', 'the', 'econom', 'time', 'corpor', 'citizen', 'of', 'the', 'year', 'award', 'milind', 'lakkad', 'chro', 'tcs', 'talk', 'about', 'our', 'win', 'at', 'the', 'etaward', '2020', 'watch', 'the', 'full', 'ceremoni', 'corporatecitizen', 'csr', 'economictim', 'were', 'one', 'of', 'the', 'india', 'coolest', 'workplac', 'from', 'enabl', 'virtual', 'workspac', 'for', 'our', 'employe', 'in', 'a', 'short', 'span', 'to', 'host', 'inspir', 'amp', 'fun', 'event', 'on', 'onetc', 'we', 'leverag', 'collabor', 'platform', 'for', 'bring', 'employe', 'togeth', 'btindia', 'nevinjl', 'our', 'coo', 'n', 'ganapathi', 'subramaniam', 'in', 'his', 'perspect', 'creat', 'a', 'thrive', 'remot', 'secur', 'and', 'agil', 'workplac', 'share', 'how', 'a', 'strong', 'foundat', 'built', 'on', 'a', 'distribut', 'agil', 'approach', 'help', 'enabl', 'remot', 'work', 'for', '96', 'of', 'our', 'employe', 'tcsperspect', 'link', 'know', 'what', 'has', 'kept', 'us', 'in', 'the', 'news', 'last', 'week', 'we', 'launch', 'a', 'cyberrisk', 'proof', 'vulner', 'remedi', 'platform', 'expand', 'our', 'footprint', 'in', 'ohio', 'and', 'montreal', 'and', 'over', '130k', 'execut', 'sign', 'up', 'for', 'our', 'leadership', 'program', 'tcs', 'elev', 'oil', 'amp', 'gas', 'compani', 'today', 'are', 'lean', 'into', 'renewableenergi', 'technolog', 'the', 'key', 'to', 'success', 'will', 'be', 'to', 'drive', 'down', 'oper', 'cost', 'and', 'fund', 'the', 'expans', 'into', 'the', 'new', 'energi', 'sourc', 'how', 'can', 'big', 'data', 'and', 'advancedanalyt', 'help', 'acceler', 'this', 'shift', 'we', 'never', 'thought', 'of', 'sbws', 'befor', 'covid', 'when', 'sudden', 'the', 'rug', 'got', 'pull', 'from', 'under', 'our', 'feet', 'we', 'realis', 'that', 'we', 'were', 'alreadi', 'sit', 'on', 'what', 'was', 'requir', 'we', 'onli', 'had', 'to', 'scale', 'it', 'up', 'rajesh', 'gopinathan', 'ceo', 'amp', 'md', 'tcs', 'more', 'on', '22', 'hold', 'togeth', 'tcs', 'has', 'been', 'rankedin', 'btindia', 'india', 'coolest', 'work', 'place', 'our', 'intern', 'initi', 'onetc', 'sbws', 'covid19', 'support', 'among', 'other', 'were', 'high', 'commend', '12', 'we', 'miss', 'him', 'not', 'onli', 'for', 'his', 'it', 'prowess', 'but', 'also', 'his', 'except', 'abil', 'to', 'envis', 'a', 'techen', 'liter', 'communiti', 'pleas', 'pay', 'your', 'respect', 'through', 'wish', 'stori', 'anecdot', 'and', 'artwork', 'in', 'the', 'comment', 'section', 'below']\n"
     ]
    }
   ],
   "source": [
    "#Removing Punctuation\n",
    "lines = [re.sub(r'[^A-Za-z0-9]+', '', x) for x in lines]\n",
    "lines = [re.sub(r\"http\\S+|www\\S+|https\\S+\", '', x, flags=re.MULTILINE) for x in lines]\n",
    "lines2 = []\n",
    "for word in lines:\n",
    "    if word != '':\n",
    "        lines2.append(word)\n",
    "#This is stemming the words to their root\n",
    "from nltk.stem.snowball import SnowballStemmer\n",
    "# The Snowball Stemmer requires that you pass a language parameter\n",
    "s_stemmer = SnowballStemmer(language='english')\n",
    "stem = []\n",
    "for word in lines2:\n",
    "    stem.append(s_stemmer.stem(word))  \n",
    "print(stem)"
   ]
  },
  {
   "cell_type": "code",
   "execution_count": 54,
   "metadata": {},
   "outputs": [
    {
     "name": "stdout",
     "output_type": "stream",
     "text": [
      "tcs         23\n",
      "help        16\n",
      "amp         14\n",
      "belief      12\n",
      "build       11\n",
      "            ..\n",
      "pull         1\n",
      "ident        1\n",
      "collabor     1\n",
      "return       1\n",
      "center       1\n",
      "Name: 0, Length: 592, dtype: int64\n"
     ]
    }
   ],
   "source": [
    "stem2 = []\n",
    "for word in stem:\n",
    "    if word not in stop_words:\n",
    "        stem2.append(word)\n",
    "\n",
    "df = pd.DataFrame(stem2)\n",
    "df = df[0].value_counts()\n",
    "\n",
    "#This will give frequencies of our words\n",
    "from nltk.probability import FreqDist\n",
    "freqdoctor = FreqDist()\n",
    "for words in df:\n",
    "     freqdoctor[words] += 1\n",
    "freqdoctor\n",
    "print(df)\n"
   ]
  },
  {
   "cell_type": "code",
   "execution_count": 64,
   "metadata": {},
   "outputs": [
    {
     "name": "stdout",
     "output_type": "stream",
     "text": [
      "['tcs' 'help' 'belief' 'build' 'new' 'buildingonbelief' 'digit' 'read'\n",
      " 'ani' 'busi' 'partner' 'share' 'work' 'year' 'technolog' 'solut' 'also'\n",
      " 'award' 'full']\n",
      "[23 16 12 11 11  8  7  7  6  6  6  5  5  5  5  5  5  5  5]\n",
      "<class 'numpy.ndarray'>\n",
      "<class 'numpy.ndarray'>\n"
     ]
    }
   ],
   "source": [
    "df = df[df.index != 'amp']\n",
    "df = df[:21,]\n",
    "index = df.index\n",
    "value = df.values\n",
    "result = index.to_numpy(dtype='str')\n",
    "print(result)\n",
    "print(value)\n",
    "print(type(value))\n",
    "print(type(result))"
   ]
  },
  {
   "cell_type": "code",
   "execution_count": 56,
   "metadata": {},
   "outputs": [],
   "source": [
    "import spacy\n",
    "from spacy import displacy\n",
    "from collections import Counter\n",
    "import en_core_web_sm\n",
    "nlp = en_core_web_sm.load()"
   ]
  },
  {
   "cell_type": "code",
   "execution_count": 57,
   "metadata": {},
   "outputs": [],
   "source": [
    "def show_ents(doc):\n",
    "    if doc.ents:\n",
    "        for ent in doc.ents:\n",
    "            print(ent.text + ' - ' + ent.label_ + ' - ' + str(spacy.explain(ent.label_)))"
   ]
  },
  {
   "cell_type": "code",
   "execution_count": 58,
   "metadata": {},
   "outputs": [],
   "source": [
    "str1 = \" \" \n",
    "stem2 = str1.join(lines2)\n",
    "\n",
    "stem2 = nlp(stem2)\n",
    "\n",
    "label = [(X.text, X.label_) for X in stem2.ents]\n",
    "\n",
    "df6 = pd.DataFrame(label, columns = ['Word','Entity'])\n",
    "\n",
    "df7 = df6.where(df6['Entity'] == 'ORG')\n",
    "\n",
    "df7 = df7['Word'].value_counts()"
   ]
  },
  {
   "cell_type": "code",
   "execution_count": 59,
   "metadata": {},
   "outputs": [
    {
     "name": "stdout",
     "output_type": "stream",
     "text": [
      "TCS                                          6\n",
      "TCS Optumera                                 1\n",
      "Elevate Oil                                  1\n",
      "Media amp Communication Service Providers    1\n",
      "BuildingOnBelief                             1\n",
      "Financial Results Press Conference           1\n",
      "The Economic Times Corporate Citizen of      1\n",
      "DevOps                                       1\n",
      "Congratulations V Ramakrishnan CFO TCS       1\n",
      "ThisRun                                      1\n",
      "RDK                                          1\n",
      "Intrapreneur                                 1\n",
      "the FinancialXpress CFO                      1\n",
      "Intelligent Urban Exchange                   1\n",
      "YouTube LinkedIn Live                        1\n",
      "a Star Performer                             1\n",
      "TheDrum BuildingOnBelief BiIndia             1\n",
      "Healthcare                                   1\n",
      "COO                                          1\n",
      "BTIndia                                      1\n",
      "Name: Word, dtype: int64\n"
     ]
    }
   ],
   "source": [
    "print(df7[:20,])"
   ]
  },
  {
   "cell_type": "code",
   "execution_count": 60,
   "metadata": {},
   "outputs": [],
   "source": [
    "str1 = \" \" \n",
    "stem2 = str1.join(lines2)\n",
    "\n",
    "stem2 = nlp(stem2)\n",
    "\n",
    "label = [(X.text, X.label_) for X in stem2.ents]\n",
    "\n",
    "df10 = pd.DataFrame(label, columns = ['Word','Entity'])\n",
    "\n",
    "df10 = df10.where(df10['Entity'] == 'PERSON')\n",
    "\n",
    "df11 = df10['Word'].value_counts()"
   ]
  },
  {
   "cell_type": "code",
   "execution_count": 61,
   "metadata": {},
   "outputs": [
    {
     "name": "stdout",
     "output_type": "stream",
     "text": [
      "Building                  2\n",
      "Anjana                    1\n",
      "BiIndia                   1\n",
      "BuildingOnBelief Watch    1\n",
      "MTNSouthAfrica            1\n",
      "Refer We                  1\n",
      "Ganapathy Subramaniam     1\n",
      "Rajesh Gopinathan         1\n",
      "Pratap Tambe              1\n",
      "DigitalHumanTwin          1\n",
      "Juan Learn                1\n",
      "Milind Lakkad CHRO        1\n",
      "Name: Word, dtype: int64\n"
     ]
    }
   ],
   "source": [
    "print(df11[:20,])"
   ]
  }
 ],
 "metadata": {
  "kernelspec": {
   "display_name": "Myvenv",
   "language": "python",
   "name": "myvenv"
  },
  "language_info": {
   "codemirror_mode": {
    "name": "ipython",
    "version": 3
   },
   "file_extension": ".py",
   "mimetype": "text/x-python",
   "name": "python",
   "nbconvert_exporter": "python",
   "pygments_lexer": "ipython3",
   "version": "3.9.4"
  }
 },
 "nbformat": 4,
 "nbformat_minor": 4
}
